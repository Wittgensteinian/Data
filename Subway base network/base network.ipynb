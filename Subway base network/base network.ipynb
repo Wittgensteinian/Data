{
 "cells": [
  {
   "cell_type": "code",
   "execution_count": 1,
   "id": "adult-thanks",
   "metadata": {},
   "outputs": [],
   "source": [
    "import networkx as nx\n",
    "import numpy as np\n",
    "import pandas as pd"
   ]
  },
  {
   "cell_type": "code",
   "execution_count": 2,
   "id": "comparative-desire",
   "metadata": {},
   "outputs": [],
   "source": [
    "with open('seoul.txt', 'r', encoding = \"UTF-8\") as file:\n",
    "    S = file.read().split('\\n')"
   ]
  },
  {
   "cell_type": "code",
   "execution_count": 3,
   "id": "criminal-honduras",
   "metadata": {},
   "outputs": [],
   "source": [
    "class Edge:\n",
    "    def __init__(self, u, v, w):\n",
    "        self.u = u\n",
    "        self.v = v\n",
    "        self.w = w"
   ]
  },
  {
   "cell_type": "code",
   "execution_count": 4,
   "id": "twelve-sunglasses",
   "metadata": {},
   "outputs": [
    {
     "name": "stdout",
     "output_type": "stream",
     "text": [
      "V: 598, E: 1360\n",
      "V: 598, E: 1346\n"
     ]
    },
    {
     "data": {
      "image/png": "[encoded data removed]",
      "text/plain": [
       "<Figure size 432x288 with 1 Axes>"
      ]
     },
     "metadata": {},
     "output_type": "display_data"
    }
   ],
   "source": [
    "# 역번호 소멸\n",
    "class Station:\n",
    "    def __init__(self, stName: str, lineName: str):\n",
    "        self.stName = stName\n",
    "        self.lineName = lineName\n",
    "    def __repr__(self):\n",
    "        return self.stName\n",
    "    def __eq__(self, o):\n",
    "        return self.stName == o.stName\n",
    "    def __hash__(self):\n",
    "        return hash(self.stName)\n",
    "\n",
    "stNo_to_st = {}\n",
    "stName_to_st = {}\n",
    "\n",
    "V = []\n",
    "E = []\n",
    "with open('seoul.txt', 'r', encoding = \"UTF-8\") as file:\n",
    "    S = file.read().split('\\n')\n",
    "L = len(S)\n",
    "for i in range(L):\n",
    "    if S[i].strip() == '':\n",
    "        break\n",
    "    stNo, stName, lineName = S[i].split()\n",
    "    st = stName_to_st.get(stName, Station(stName, lineName))\n",
    "    stNo_to_st[stNo] = st\n",
    "    stName_to_st[stName] = st\n",
    "\n",
    "i += 1\n",
    "for i in range(i, L):\n",
    "    u, v, w = S[i].split();\n",
    "    u = stNo_to_st[u]\n",
    "    v = stNo_to_st[v]\n",
    "    E.append(Edge(u, v, w))\n",
    "\n",
    "for stName, st in stName_to_st.items():\n",
    "    V.append(stName)\n",
    "\n",
    "G = nx.DiGraph()\n",
    "G.add_nodes_from(V)\n",
    "for e in E:\n",
    "    G.add_edge(e.u.stName, e.v.stName, weight = e.w)\n",
    "\n",
    "print(\"V: %d, E: %d\" % (len(V), len(E)))\n",
    "print(\"V: %d, E: %d\" % (G.number_of_nodes(), G.number_of_edges()))\n",
    "nx.draw(G)"
   ]
  },
  {
   "cell_type": "code",
   "execution_count": 5,
   "id": "loaded-coffee",
   "metadata": {},
   "outputs": [
    {
     "name": "stdout",
     "output_type": "stream",
     "text": [
      "V: 705, E: 1614\n",
      "V: 705, E: 1614\n"
     ]
    },
    {
     "data": {
      "image/png": "[encoded data removed]",
      "text/plain": [
       "<Figure size 432x288 with 1 Axes>"
      ]
     },
     "metadata": {},
     "output_type": "display_data"
    }
   ],
   "source": [
    "# 역번호를 살리는 쪽. 두 역을 잇는 2개의 방법(두개의 호선)이 존재할 때,\n",
    "# 역의 고유번호가 다르므로 다른 쌍으로 인식시킬 수 있다. 그래서 Edges수가 감소하지 않은 것을 확인 가능\n",
    "class Station:\n",
    "    def __init__(self, stNo: str, stName: str, lineName: str):\n",
    "        self.stNo = stNo\n",
    "        self.stName = stName\n",
    "        self.lineName = lineName\n",
    "    def __repr__(self):\n",
    "        return self.stName\n",
    "    def __eq__(self, o):\n",
    "        return self.stNo == o.stNo\n",
    "    def __hash__(self):\n",
    "        return hash(self.stName)\n",
    "\n",
    "stNo_to_st = {}\n",
    "stName_to_st = {}\n",
    "\n",
    "V = []\n",
    "E = []\n",
    "L = len(S)\n",
    "for i in range(L):\n",
    "    if S[i].strip() == '':\n",
    "        break\n",
    "    stNo, stName, lineName = S[i].split()\n",
    "    st = Station(stNo, stName, lineName)\n",
    "    V.append(st) # V\n",
    "    stNo_to_st[stNo] = st\n",
    "    stName_to_st[stName] = stName_to_st.get(stName, []) + [st]\n",
    "\n",
    "i += 1\n",
    "for i in range(i, L):\n",
    "    u, v, w = S[i].split();\n",
    "    u = stNo_to_st[u]\n",
    "    v = stNo_to_st[v]\n",
    "    E.append(Edge(u, v, w))\n",
    "\n",
    "    \n",
    "for stName, sts in stName_to_st.items():\n",
    "    for i in sts:\n",
    "        for j in sts:\n",
    "            if i == j: continue\n",
    "            E.append(Edge(i, j, 3))\n",
    "\n",
    "G = nx.DiGraph()\n",
    "G.add_nodes_from(V)\n",
    "for e in E:\n",
    "    G.add_edge(e.u, e.v, weight = e.w)\n",
    "\n",
    "print(\"V: %d, E: %d\" % (len(V), len(E)))\n",
    "print(\"V: %d, E: %d\" % (G.number_of_nodes(), G.number_of_edges()))\n",
    "nx.draw(G)"
   ]
  },
  {
   "cell_type": "code",
   "execution_count": null,
   "id": "oriental-pharmaceutical",
   "metadata": {},
   "outputs": [],
   "source": []
  }
 ],
 "metadata": {
  "kernelspec": {
   "display_name": "Python 3",
   "language": "python",
   "name": "python3"
  },
  "language_info": {
   "codemirror_mode": {
    "name": "ipython",
    "version": 3
   },
   "file_extension": ".py",
   "mimetype": "text/x-python",
   "name": "python",
   "nbconvert_exporter": "python",
   "pygments_lexer": "ipython3",
   "version": "3.8.5"
  }
 },
 "nbformat": 4,
 "nbformat_minor": 5
}
