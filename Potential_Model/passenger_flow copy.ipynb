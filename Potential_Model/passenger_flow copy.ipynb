{
 "cells": [
  {
   "cell_type": "code",
   "execution_count": 61,
   "id": "alternate-authorization",
   "metadata": {},
   "outputs": [],
   "source": [
    "import pickle\n",
    "import networkx as nx\n",
    "import numpy as np\n",
    "import matplotlib.pyplot as plt\n",
    "import pandas as pd\n",
    "%matplotlib inline\n",
    "\n",
    "pd.options.display.max_rows = 100"
   ]
  },
  {
   "cell_type": "code",
   "execution_count": 70,
   "id": "satisfactory-dealing",
   "metadata": {},
   "outputs": [],
   "source": [
    "# shortest path (physical time)\n",
    "from networkx.algorithms.shortest_paths.generic import shortest_path_length\n",
    "\n",
    "with open('../Subway_base_network/graph_stNo_as_node.pkl', 'rb') as f:\n",
    "    G_stNo = pickle.load(f)\n",
    "\n",
    "physical_times = dict(shortest_path_length(G_stNo, weight='weight')) "
   ]
  },
  {
   "cell_type": "code",
   "execution_count": 87,
   "metadata": {},
   "outputs": [
    {
     "output_type": "execute_result",
     "data": {
      "text/plain": [
       "'226'"
      ]
     },
     "metadata": {},
     "execution_count": 87
    }
   ],
   "source": [
    "# name_to_no\n",
    "\n",
    "df = pd.read_csv(\"../Subway_base_network/seoul.txt\", delimiter=\" \", names=[\"no\", \"name\", \"line\"], encoding=\"UTF-8\",)\n",
    "## only nodes\n",
    "df = df.iloc[:705,]\n",
    "\n",
    "def name_to_no(name, line):\n",
    "    x = df[df[\"name\"] == name]\n",
    "    y = x[x['line'] == line]\n",
    "    return y['no'].values[0]\n",
    "\n",
    "name_to_no(\"사당\", '2')"
   ]
  },
  {
   "cell_type": "code",
   "execution_count": 94,
   "metadata": {},
   "outputs": [
    {
     "output_type": "execute_result",
     "data": {
      "text/plain": [
       "array(['1', '2', '3', '4', '5', '6', '7', '8', '9', 'S1', 'I1', 'I2',\n",
       "       'K1', 'K2', 'K2_', 'K4', 'P1', 'S', 'AREX', 'D', 'U1', 'Y1'],\n",
       "      dtype=object)"
      ]
     },
     "metadata": {},
     "execution_count": 94
    }
   ],
   "source": [
    "df['line'].unique()"
   ]
  },
  {
   "cell_type": "code",
   "execution_count": 104,
   "id": "whole-project",
   "metadata": {},
   "outputs": [],
   "source": [
    "# load data\n",
    "data = pd.read_csv(\"data.csv\")\n",
    "\n",
    "# convert line names and station names\n",
    "line_convert_table = {\"1호선\": \"1\", \"2호선\": \"2\", \"3호선\": \"3\", \"4호선\": \"4\", \"5호선\": \"5\", \"6호선\": \"6\", \"7호선\": \"7\", \"8호선\": \"8\", \"9호선\": \"9\", \"중앙선\": \"K1\", '우이신설선': 'S1', '분당선': \"K2\", '수인선': 'K2_'}\n",
    "name_convert_table = {'가천대': '가천대역', '신천': '잠실새내', '이수': '총신대입구(이수)','청량리(서울시립대입구)':'청량리','강변(동서울터미널)':'강변'}\n",
    "\n",
    "data.replace(line_convert_table, inplace=True)\n",
    "data.replace(name_convert_table, inplace=True)\n",
    "\n",
    "# 2개의 다른 신촌역 분리\n",
    "data.loc[data['지하철역']=='신촌'].iloc[0]['지하철역'] = '신촌' # 2호선 신촌\n",
    "data.loc[data['지하철역']=='신촌'].iloc[1]['지하철역'] = '신촌(경의선)'"
   ]
  },
  {
   "cell_type": "code",
   "execution_count": 118,
   "metadata": {},
   "outputs": [
    {
     "output_type": "execute_result",
     "data": {
      "text/plain": [
       "        사용월  호선명     지하철역  04시-05시 승차인원  04시-05시 하차인원  05시-06시 승차인원  \\\n",
       "578  201803  중앙선  양평(중앙선)            20             2          1529   \n",
       "\n",
       "     05시-06시 하차인원  06시-07시 승차인원  06시-07시 하차인원  07시-08시 승차인원  ...  \\\n",
       "578           131          2974          2209         13161  ...   \n",
       "\n",
       "     23시-24시 하차인원  00시-01시 승차인원  00시-01시 하차인원  01시-02시 승차인원  01시-02시 하차인원  \\\n",
       "578          4861           157          1912             0             0   \n",
       "\n",
       "     02시-03시 승차인원  02시-03시 하차인원  03시-04시 승차인원  03시-04시 하차인원      작업일자  \n",
       "578             0             0             0             0  20180403  \n",
       "\n",
       "[1 rows x 52 columns]"
      ],
      "text/html": "<div>\n<style scoped>\n    .dataframe tbody tr th:only-of-type {\n        vertical-align: middle;\n    }\n\n    .dataframe tbody tr th {\n        vertical-align: top;\n    }\n\n    .dataframe thead th {\n        text-align: right;\n    }\n</style>\n<table border=\"1\" class=\"dataframe\">\n  <thead>\n    <tr style=\"text-align: right;\">\n      <th></th>\n      <th>사용월</th>\n      <th>호선명</th>\n      <th>지하철역</th>\n      <th>04시-05시 승차인원</th>\n      <th>04시-05시 하차인원</th>\n      <th>05시-06시 승차인원</th>\n      <th>05시-06시 하차인원</th>\n      <th>06시-07시 승차인원</th>\n      <th>06시-07시 하차인원</th>\n      <th>07시-08시 승차인원</th>\n      <th>...</th>\n      <th>23시-24시 하차인원</th>\n      <th>00시-01시 승차인원</th>\n      <th>00시-01시 하차인원</th>\n      <th>01시-02시 승차인원</th>\n      <th>01시-02시 하차인원</th>\n      <th>02시-03시 승차인원</th>\n      <th>02시-03시 하차인원</th>\n      <th>03시-04시 승차인원</th>\n      <th>03시-04시 하차인원</th>\n      <th>작업일자</th>\n    </tr>\n  </thead>\n  <tbody>\n    <tr>\n      <th>578</th>\n      <td>201803</td>\n      <td>중앙선</td>\n      <td>양평(중앙선)</td>\n      <td>20</td>\n      <td>2</td>\n      <td>1529</td>\n      <td>131</td>\n      <td>2974</td>\n      <td>2209</td>\n      <td>13161</td>\n      <td>...</td>\n      <td>4861</td>\n      <td>157</td>\n      <td>1912</td>\n      <td>0</td>\n      <td>0</td>\n      <td>0</td>\n      <td>0</td>\n      <td>0</td>\n      <td>0</td>\n      <td>20180403</td>\n    </tr>\n  </tbody>\n</table>\n<p>1 rows × 52 columns</p>\n</div>"
     },
     "metadata": {},
     "execution_count": 118
    }
   ],
   "source": [
    "data = pd.read_csv(\"data.csv\")\n",
    "\n",
    "data.loc[data['지하철역'] == '양평(중앙선)']"
   ]
  },
  {
   "cell_type": "code",
   "execution_count": 106,
   "metadata": {},
   "outputs": [
    {
     "output_type": "stream",
     "name": "stdout",
     "text": [
      "0\n1\n2\n3\n4\n5\n6\n7\n8\n9\n10\n11\n12\n13\n"
     ]
    },
    {
     "output_type": "error",
     "ename": "IndexError",
     "evalue": "index 0 is out of bounds for axis 0 with size 0",
     "traceback": [
      "\u001b[0;31m---------------------------------------------------------------------------\u001b[0m",
      "\u001b[0;31mIndexError\u001b[0m                                Traceback (most recent call last)",
      "\u001b[0;32m<ipython-input-106-0a449c19d487>\u001b[0m in \u001b[0;36m<module>\u001b[0;34m\u001b[0m\n\u001b[1;32m      3\u001b[0m     \u001b[0mprint\u001b[0m\u001b[0;34m(\u001b[0m\u001b[0mi\u001b[0m\u001b[0;34m)\u001b[0m\u001b[0;34m\u001b[0m\u001b[0;34m\u001b[0m\u001b[0m\n\u001b[1;32m      4\u001b[0m     \u001b[0mrow\u001b[0m \u001b[0;34m=\u001b[0m \u001b[0mdata\u001b[0m\u001b[0;34m.\u001b[0m\u001b[0miloc\u001b[0m\u001b[0;34m[\u001b[0m\u001b[0mi\u001b[0m\u001b[0;34m]\u001b[0m\u001b[0;34m\u001b[0m\u001b[0;34m\u001b[0m\u001b[0m\n\u001b[0;32m----> 5\u001b[0;31m     \u001b[0mno_list\u001b[0m\u001b[0;34m.\u001b[0m\u001b[0mappend\u001b[0m\u001b[0;34m(\u001b[0m\u001b[0mname_to_no\u001b[0m\u001b[0;34m(\u001b[0m\u001b[0mrow\u001b[0m\u001b[0;34m[\u001b[0m\u001b[0;34m'지하철역'\u001b[0m\u001b[0;34m]\u001b[0m\u001b[0;34m,\u001b[0m\u001b[0mrow\u001b[0m\u001b[0;34m[\u001b[0m\u001b[0;34m'호선명'\u001b[0m\u001b[0;34m]\u001b[0m\u001b[0;34m)\u001b[0m\u001b[0;34m)\u001b[0m\u001b[0;34m\u001b[0m\u001b[0;34m\u001b[0m\u001b[0m\n\u001b[0m",
      "\u001b[0;32m<ipython-input-87-da60e142cd74>\u001b[0m in \u001b[0;36mname_to_no\u001b[0;34m(name, line)\u001b[0m\n\u001b[1;32m      8\u001b[0m     \u001b[0mx\u001b[0m \u001b[0;34m=\u001b[0m \u001b[0mdf\u001b[0m\u001b[0;34m[\u001b[0m\u001b[0mdf\u001b[0m\u001b[0;34m[\u001b[0m\u001b[0;34m\"name\"\u001b[0m\u001b[0;34m]\u001b[0m \u001b[0;34m==\u001b[0m \u001b[0mname\u001b[0m\u001b[0;34m]\u001b[0m\u001b[0;34m\u001b[0m\u001b[0;34m\u001b[0m\u001b[0m\n\u001b[1;32m      9\u001b[0m     \u001b[0my\u001b[0m \u001b[0;34m=\u001b[0m \u001b[0mx\u001b[0m\u001b[0;34m[\u001b[0m\u001b[0mx\u001b[0m\u001b[0;34m[\u001b[0m\u001b[0;34m'line'\u001b[0m\u001b[0;34m]\u001b[0m \u001b[0;34m==\u001b[0m \u001b[0mline\u001b[0m\u001b[0;34m]\u001b[0m\u001b[0;34m\u001b[0m\u001b[0;34m\u001b[0m\u001b[0m\n\u001b[0;32m---> 10\u001b[0;31m     \u001b[0;32mreturn\u001b[0m \u001b[0my\u001b[0m\u001b[0;34m[\u001b[0m\u001b[0;34m'no'\u001b[0m\u001b[0;34m]\u001b[0m\u001b[0;34m.\u001b[0m\u001b[0mvalues\u001b[0m\u001b[0;34m[\u001b[0m\u001b[0;36m0\u001b[0m\u001b[0;34m]\u001b[0m\u001b[0;34m\u001b[0m\u001b[0;34m\u001b[0m\u001b[0m\n\u001b[0m\u001b[1;32m     11\u001b[0m \u001b[0;34m\u001b[0m\u001b[0m\n\u001b[1;32m     12\u001b[0m \u001b[0mname_to_no\u001b[0m\u001b[0;34m(\u001b[0m\u001b[0;34m\"사당\"\u001b[0m\u001b[0;34m,\u001b[0m \u001b[0;34m'2'\u001b[0m\u001b[0;34m)\u001b[0m\u001b[0;34m\u001b[0m\u001b[0;34m\u001b[0m\u001b[0m\n",
      "\u001b[0;31mIndexError\u001b[0m: index 0 is out of bounds for axis 0 with size 0"
     ]
    }
   ],
   "source": [
    "no_list = []\n",
    "for i in range(data.shape[0]):\n",
    "    print(i)\n",
    "    row = data.iloc[i]\n",
    "    no_list.append(name_to_no(row['지하철역'],row['호선명']))"
   ]
  },
  {
   "cell_type": "code",
   "execution_count": null,
   "metadata": {},
   "outputs": [],
   "source": [
    "# add daily sum\n",
    "data['sum'] = data.sum(axis=1)"
   ]
  },
  {
   "cell_type": "code",
   "execution_count": 73,
   "id": "adult-albany",
   "metadata": {},
   "outputs": [],
   "source": [
    "# sum duplicated rows(환승역)\n",
    "data_org = data.copy()\n",
    "data = data.groupby('지하철역').sum()\n",
    "\n",
    "# drop columns which we don't need\n",
    "data.drop(columns=['사용월','작업일자'], inplace=True)\n",
    "\n",
    "# sort by sum\n",
    "data.sort_values('sum', ascending=False, inplace=True)"
   ]
  },
  {
   "cell_type": "code",
   "execution_count": 81,
   "id": "widespread-devil",
   "metadata": {},
   "outputs": [],
   "source": [
    "# V represents the ratio of \"passsenger flow at the station : mean passenger flow\".\n",
    "data['V'] = data['sum'] / data_sum.mean(axis=0)['sum']"
   ]
  },
  {
   "cell_type": "code",
   "execution_count": 82,
   "metadata": {},
   "outputs": [
    {
     "output_type": "execute_result",
     "data": {
      "text/plain": [
       "          04시-05시 승차인원  04시-05시 하차인원  05시-06시 승차인원  05시-06시 하차인원  \\\n",
       "지하철역                                                               \n",
       "서울역               1318            21         22986         10577   \n",
       "공덕                 218             1          9839          3439   \n",
       "디지털미디어시티           182             4         10184          3529   \n",
       "김포공항                53             1          5806          7154   \n",
       "홍대입구              2086            34         47598          5569   \n",
       "...                ...           ...           ...           ...   \n",
       "신원                   0             0            94             8   \n",
       "굴봉산                  0             0           104             5   \n",
       "백양리                  1             0           101            17   \n",
       "달월                   0             0            31            11   \n",
       "지평                   0             0             0             0   \n",
       "\n",
       "          06시-07시 승차인원  06시-07시 하차인원  07시-08시 승차인원  07시-08시 하차인원  \\\n",
       "지하철역                                                               \n",
       "서울역              29179         83489         76053        182308   \n",
       "공덕               19999         20999         58112         78487   \n",
       "디지털미디어시티         23694         19640         72913         58263   \n",
       "김포공항             12086         35336         33388         54358   \n",
       "홍대입구             48204         30499         92455         56543   \n",
       "...                ...           ...           ...           ...   \n",
       "신원                 237            59           623           279   \n",
       "굴봉산                100            21           277            68   \n",
       "백양리                 37            44            66           142   \n",
       "달월                  51           151           170           270   \n",
       "지평                   1             0           300           314   \n",
       "\n",
       "          08시-09시 승차인원  08시-09시 하차인원  ...  00시-01시 승차인원  00시-01시 하차인원  \\\n",
       "지하철역                                  ...                               \n",
       "서울역             132154        400485  ...          6791         18168   \n",
       "공덕               79065        224580  ...          3727         10803   \n",
       "디지털미디어시티         77713        179169  ...          1806          9114   \n",
       "김포공항             44622         58349  ...           798          4428   \n",
       "홍대입구            115693        156566  ...         19736         29399   \n",
       "...                ...           ...  ...           ...           ...   \n",
       "신원                 493           468  ...             4            58   \n",
       "굴봉산                241           267  ...             1            18   \n",
       "백양리                130           411  ...             1            28   \n",
       "달월                  62           666  ...             5            17   \n",
       "지평                 247           256  ...             0             0   \n",
       "\n",
       "          01시-02시 승차인원  01시-02시 하차인원  02시-03시 승차인원  02시-03시 하차인원  \\\n",
       "지하철역                                                               \n",
       "서울역                  2          1063             0             0   \n",
       "공덕                   2           378             1             0   \n",
       "디지털미디어시티             2           524             0             0   \n",
       "김포공항                 4           316             0             0   \n",
       "홍대입구                 7          2499             1             1   \n",
       "...                ...           ...           ...           ...   \n",
       "신원                   0             0             0             0   \n",
       "굴봉산                  0             0             0             0   \n",
       "백양리                  0             0             0             0   \n",
       "달월                   0             0             0             0   \n",
       "지평                   0             0             0             0   \n",
       "\n",
       "          03시-04시 승차인원  03시-04시 하차인원        sum         V  \n",
       "지하철역                                                       \n",
       "서울역                  0             0  127851724  5.172036  \n",
       "공덕                   0             0   83865121  3.392629  \n",
       "디지털미디어시티             0             0   83277088  3.368841  \n",
       "김포공항                 1             0   83174765  3.364702  \n",
       "홍대입구                 0             0   67265739  2.721128  \n",
       "...                ...           ...        ...       ...  \n",
       "신원                   0             0   20396144  0.825093  \n",
       "굴봉산                  0             0   20392004  0.824926  \n",
       "백양리                  0             0   20390489  0.824865  \n",
       "달월                   0             0   20387877  0.824759  \n",
       "지평                   0             0   20385616  0.824667  \n",
       "\n",
       "[503 rows x 50 columns]"
      ],
      "text/html": "<div>\n<style scoped>\n    .dataframe tbody tr th:only-of-type {\n        vertical-align: middle;\n    }\n\n    .dataframe tbody tr th {\n        vertical-align: top;\n    }\n\n    .dataframe thead th {\n        text-align: right;\n    }\n</style>\n<table border=\"1\" class=\"dataframe\">\n  <thead>\n    <tr style=\"text-align: right;\">\n      <th></th>\n      <th>04시-05시 승차인원</th>\n      <th>04시-05시 하차인원</th>\n      <th>05시-06시 승차인원</th>\n      <th>05시-06시 하차인원</th>\n      <th>06시-07시 승차인원</th>\n      <th>06시-07시 하차인원</th>\n      <th>07시-08시 승차인원</th>\n      <th>07시-08시 하차인원</th>\n      <th>08시-09시 승차인원</th>\n      <th>08시-09시 하차인원</th>\n      <th>...</th>\n      <th>00시-01시 승차인원</th>\n      <th>00시-01시 하차인원</th>\n      <th>01시-02시 승차인원</th>\n      <th>01시-02시 하차인원</th>\n      <th>02시-03시 승차인원</th>\n      <th>02시-03시 하차인원</th>\n      <th>03시-04시 승차인원</th>\n      <th>03시-04시 하차인원</th>\n      <th>sum</th>\n      <th>V</th>\n    </tr>\n    <tr>\n      <th>지하철역</th>\n      <th></th>\n      <th></th>\n      <th></th>\n      <th></th>\n      <th></th>\n      <th></th>\n      <th></th>\n      <th></th>\n      <th></th>\n      <th></th>\n      <th></th>\n      <th></th>\n      <th></th>\n      <th></th>\n      <th></th>\n      <th></th>\n      <th></th>\n      <th></th>\n      <th></th>\n      <th></th>\n      <th></th>\n    </tr>\n  </thead>\n  <tbody>\n    <tr>\n      <th>서울역</th>\n      <td>1318</td>\n      <td>21</td>\n      <td>22986</td>\n      <td>10577</td>\n      <td>29179</td>\n      <td>83489</td>\n      <td>76053</td>\n      <td>182308</td>\n      <td>132154</td>\n      <td>400485</td>\n      <td>...</td>\n      <td>6791</td>\n      <td>18168</td>\n      <td>2</td>\n      <td>1063</td>\n      <td>0</td>\n      <td>0</td>\n      <td>0</td>\n      <td>0</td>\n      <td>127851724</td>\n      <td>5.172036</td>\n    </tr>\n    <tr>\n      <th>공덕</th>\n      <td>218</td>\n      <td>1</td>\n      <td>9839</td>\n      <td>3439</td>\n      <td>19999</td>\n      <td>20999</td>\n      <td>58112</td>\n      <td>78487</td>\n      <td>79065</td>\n      <td>224580</td>\n      <td>...</td>\n      <td>3727</td>\n      <td>10803</td>\n      <td>2</td>\n      <td>378</td>\n      <td>1</td>\n      <td>0</td>\n      <td>0</td>\n      <td>0</td>\n      <td>83865121</td>\n      <td>3.392629</td>\n    </tr>\n    <tr>\n      <th>디지털미디어시티</th>\n      <td>182</td>\n      <td>4</td>\n      <td>10184</td>\n      <td>3529</td>\n      <td>23694</td>\n      <td>19640</td>\n      <td>72913</td>\n      <td>58263</td>\n      <td>77713</td>\n      <td>179169</td>\n      <td>...</td>\n      <td>1806</td>\n      <td>9114</td>\n      <td>2</td>\n      <td>524</td>\n      <td>0</td>\n      <td>0</td>\n      <td>0</td>\n      <td>0</td>\n      <td>83277088</td>\n      <td>3.368841</td>\n    </tr>\n    <tr>\n      <th>김포공항</th>\n      <td>53</td>\n      <td>1</td>\n      <td>5806</td>\n      <td>7154</td>\n      <td>12086</td>\n      <td>35336</td>\n      <td>33388</td>\n      <td>54358</td>\n      <td>44622</td>\n      <td>58349</td>\n      <td>...</td>\n      <td>798</td>\n      <td>4428</td>\n      <td>4</td>\n      <td>316</td>\n      <td>0</td>\n      <td>0</td>\n      <td>1</td>\n      <td>0</td>\n      <td>83174765</td>\n      <td>3.364702</td>\n    </tr>\n    <tr>\n      <th>홍대입구</th>\n      <td>2086</td>\n      <td>34</td>\n      <td>47598</td>\n      <td>5569</td>\n      <td>48204</td>\n      <td>30499</td>\n      <td>92455</td>\n      <td>56543</td>\n      <td>115693</td>\n      <td>156566</td>\n      <td>...</td>\n      <td>19736</td>\n      <td>29399</td>\n      <td>7</td>\n      <td>2499</td>\n      <td>1</td>\n      <td>1</td>\n      <td>0</td>\n      <td>0</td>\n      <td>67265739</td>\n      <td>2.721128</td>\n    </tr>\n    <tr>\n      <th>...</th>\n      <td>...</td>\n      <td>...</td>\n      <td>...</td>\n      <td>...</td>\n      <td>...</td>\n      <td>...</td>\n      <td>...</td>\n      <td>...</td>\n      <td>...</td>\n      <td>...</td>\n      <td>...</td>\n      <td>...</td>\n      <td>...</td>\n      <td>...</td>\n      <td>...</td>\n      <td>...</td>\n      <td>...</td>\n      <td>...</td>\n      <td>...</td>\n      <td>...</td>\n      <td>...</td>\n    </tr>\n    <tr>\n      <th>신원</th>\n      <td>0</td>\n      <td>0</td>\n      <td>94</td>\n      <td>8</td>\n      <td>237</td>\n      <td>59</td>\n      <td>623</td>\n      <td>279</td>\n      <td>493</td>\n      <td>468</td>\n      <td>...</td>\n      <td>4</td>\n      <td>58</td>\n      <td>0</td>\n      <td>0</td>\n      <td>0</td>\n      <td>0</td>\n      <td>0</td>\n      <td>0</td>\n      <td>20396144</td>\n      <td>0.825093</td>\n    </tr>\n    <tr>\n      <th>굴봉산</th>\n      <td>0</td>\n      <td>0</td>\n      <td>104</td>\n      <td>5</td>\n      <td>100</td>\n      <td>21</td>\n      <td>277</td>\n      <td>68</td>\n      <td>241</td>\n      <td>267</td>\n      <td>...</td>\n      <td>1</td>\n      <td>18</td>\n      <td>0</td>\n      <td>0</td>\n      <td>0</td>\n      <td>0</td>\n      <td>0</td>\n      <td>0</td>\n      <td>20392004</td>\n      <td>0.824926</td>\n    </tr>\n    <tr>\n      <th>백양리</th>\n      <td>1</td>\n      <td>0</td>\n      <td>101</td>\n      <td>17</td>\n      <td>37</td>\n      <td>44</td>\n      <td>66</td>\n      <td>142</td>\n      <td>130</td>\n      <td>411</td>\n      <td>...</td>\n      <td>1</td>\n      <td>28</td>\n      <td>0</td>\n      <td>0</td>\n      <td>0</td>\n      <td>0</td>\n      <td>0</td>\n      <td>0</td>\n      <td>20390489</td>\n      <td>0.824865</td>\n    </tr>\n    <tr>\n      <th>달월</th>\n      <td>0</td>\n      <td>0</td>\n      <td>31</td>\n      <td>11</td>\n      <td>51</td>\n      <td>151</td>\n      <td>170</td>\n      <td>270</td>\n      <td>62</td>\n      <td>666</td>\n      <td>...</td>\n      <td>5</td>\n      <td>17</td>\n      <td>0</td>\n      <td>0</td>\n      <td>0</td>\n      <td>0</td>\n      <td>0</td>\n      <td>0</td>\n      <td>20387877</td>\n      <td>0.824759</td>\n    </tr>\n    <tr>\n      <th>지평</th>\n      <td>0</td>\n      <td>0</td>\n      <td>0</td>\n      <td>0</td>\n      <td>1</td>\n      <td>0</td>\n      <td>300</td>\n      <td>314</td>\n      <td>247</td>\n      <td>256</td>\n      <td>...</td>\n      <td>0</td>\n      <td>0</td>\n      <td>0</td>\n      <td>0</td>\n      <td>0</td>\n      <td>0</td>\n      <td>0</td>\n      <td>0</td>\n      <td>20385616</td>\n      <td>0.824667</td>\n    </tr>\n  </tbody>\n</table>\n<p>503 rows × 50 columns</p>\n</div>"
     },
     "metadata": {},
     "execution_count": 82
    }
   ],
   "source": [
    "# Potential\n",
    "for row in data:\n",
    "    "
   ]
  }
 ],
 "metadata": {
  "kernelspec": {
   "name": "python385jvsc74a57bd00a11f21c0450bb1ec4a8d90e5cdddc03f9c3302b58333d2d566c7a90a775328a",
   "display_name": "Python 3.8.5 64-bit ('base': conda)"
  },
  "language_info": {
   "codemirror_mode": {
    "name": "ipython",
    "version": 3
   },
   "file_extension": ".py",
   "mimetype": "text/x-python",
   "name": "python",
   "nbconvert_exporter": "python",
   "pygments_lexer": "ipython3",
   "version": "3.8.5"
  }
 },
 "nbformat": 4,
 "nbformat_minor": 5
}