{
 "metadata": {
  "language_info": {
   "codemirror_mode": {
    "name": "ipython",
    "version": 3
   },
   "file_extension": ".py",
   "mimetype": "text/x-python",
   "name": "python",
   "nbconvert_exporter": "python",
   "pygments_lexer": "ipython3",
   "version": "3.8.5-final"
  },
  "orig_nbformat": 2,
  "kernelspec": {
   "name": "python3",
   "display_name": "Python 3",
   "language": "python"
  }
 },
 "nbformat": 4,
 "nbformat_minor": 2,
 "cells": [
  {
   "source": [
    "# Merge Seoul metro data\n",
    "* Mar 27, 2021\n",
    "* Yejoon Lee"
   ],
   "cell_type": "markdown",
   "metadata": {}
  },
  {
   "source": [
    "## Read files"
   ],
   "cell_type": "markdown",
   "metadata": {}
  },
  {
   "cell_type": "code",
   "execution_count": 4,
   "metadata": {},
   "outputs": [
    {
     "output_type": "execute_result",
     "data": {
      "text/plain": [
       "           날짜   호선  역번호   역명  구분  06:00 이전  06:00 ~ 07:00  07:00 ~ 08:00  \\\n",
       "0  2020-01-01  1호선  150  서울역  승차       356            280            313   \n",
       "1  2020-01-01  1호선  150  서울역  하차       235            952            828   \n",
       "2  2020-01-01  1호선  151   시청  승차       105            118            123   \n",
       "3  2020-01-01  1호선  151   시청  하차        81            223            334   \n",
       "4  2020-01-01  1호선  152   종각  승차       798            366            198   \n",
       "\n",
       "   08:00 ~ 09:00  09:00 ~ 10:00  ...  15:00 ~ 16:00  16:00 ~ 17:00  \\\n",
       "0            774            923  ...           2972           3194   \n",
       "1           1043           1694  ...           2286           2354   \n",
       "2            206            318  ...            873           1019   \n",
       "3            570            611  ...            885            783   \n",
       "4            236            310  ...           1636           1748   \n",
       "\n",
       "   17:00 ~ 18:00  18:00 ~ 19:00  19:00 ~ 20:00  20:00 ~ 21:00  21:00 ~ 22:00  \\\n",
       "0           3342           3002           2857           2311           2523   \n",
       "1           2261           1922           1696           1620           1181   \n",
       "2           1234           1383           1271           1061            991   \n",
       "3            849            602            435            293            273   \n",
       "4           1890           1879           1827           1955           1800   \n",
       "\n",
       "   22:00 ~ 23:00  23:00 ~ 24:00  24:00 이후  \n",
       "0           1830            987        25  \n",
       "1            768            426        77  \n",
       "2            572            217         2  \n",
       "3            174            149        26  \n",
       "4           1259            406         6  \n",
       "\n",
       "[5 rows x 25 columns]"
      ],
      "text/html": "<div>\n<style scoped>\n    .dataframe tbody tr th:only-of-type {\n        vertical-align: middle;\n    }\n\n    .dataframe tbody tr th {\n        vertical-align: top;\n    }\n\n    .dataframe thead th {\n        text-align: right;\n    }\n</style>\n<table border=\"1\" class=\"dataframe\">\n  <thead>\n    <tr style=\"text-align: right;\">\n      <th></th>\n      <th>날짜</th>\n      <th>호선</th>\n      <th>역번호</th>\n      <th>역명</th>\n      <th>구분</th>\n      <th>06:00 이전</th>\n      <th>06:00 ~ 07:00</th>\n      <th>07:00 ~ 08:00</th>\n      <th>08:00 ~ 09:00</th>\n      <th>09:00 ~ 10:00</th>\n      <th>...</th>\n      <th>15:00 ~ 16:00</th>\n      <th>16:00 ~ 17:00</th>\n      <th>17:00 ~ 18:00</th>\n      <th>18:00 ~ 19:00</th>\n      <th>19:00 ~ 20:00</th>\n      <th>20:00 ~ 21:00</th>\n      <th>21:00 ~ 22:00</th>\n      <th>22:00 ~ 23:00</th>\n      <th>23:00 ~ 24:00</th>\n      <th>24:00 이후</th>\n    </tr>\n  </thead>\n  <tbody>\n    <tr>\n      <th>0</th>\n      <td>2020-01-01</td>\n      <td>1호선</td>\n      <td>150</td>\n      <td>서울역</td>\n      <td>승차</td>\n      <td>356</td>\n      <td>280</td>\n      <td>313</td>\n      <td>774</td>\n      <td>923</td>\n      <td>...</td>\n      <td>2972</td>\n      <td>3194</td>\n      <td>3342</td>\n      <td>3002</td>\n      <td>2857</td>\n      <td>2311</td>\n      <td>2523</td>\n      <td>1830</td>\n      <td>987</td>\n      <td>25</td>\n    </tr>\n    <tr>\n      <th>1</th>\n      <td>2020-01-01</td>\n      <td>1호선</td>\n      <td>150</td>\n      <td>서울역</td>\n      <td>하차</td>\n      <td>235</td>\n      <td>952</td>\n      <td>828</td>\n      <td>1043</td>\n      <td>1694</td>\n      <td>...</td>\n      <td>2286</td>\n      <td>2354</td>\n      <td>2261</td>\n      <td>1922</td>\n      <td>1696</td>\n      <td>1620</td>\n      <td>1181</td>\n      <td>768</td>\n      <td>426</td>\n      <td>77</td>\n    </tr>\n    <tr>\n      <th>2</th>\n      <td>2020-01-01</td>\n      <td>1호선</td>\n      <td>151</td>\n      <td>시청</td>\n      <td>승차</td>\n      <td>105</td>\n      <td>118</td>\n      <td>123</td>\n      <td>206</td>\n      <td>318</td>\n      <td>...</td>\n      <td>873</td>\n      <td>1019</td>\n      <td>1234</td>\n      <td>1383</td>\n      <td>1271</td>\n      <td>1061</td>\n      <td>991</td>\n      <td>572</td>\n      <td>217</td>\n      <td>2</td>\n    </tr>\n    <tr>\n      <th>3</th>\n      <td>2020-01-01</td>\n      <td>1호선</td>\n      <td>151</td>\n      <td>시청</td>\n      <td>하차</td>\n      <td>81</td>\n      <td>223</td>\n      <td>334</td>\n      <td>570</td>\n      <td>611</td>\n      <td>...</td>\n      <td>885</td>\n      <td>783</td>\n      <td>849</td>\n      <td>602</td>\n      <td>435</td>\n      <td>293</td>\n      <td>273</td>\n      <td>174</td>\n      <td>149</td>\n      <td>26</td>\n    </tr>\n    <tr>\n      <th>4</th>\n      <td>2020-01-01</td>\n      <td>1호선</td>\n      <td>152</td>\n      <td>종각</td>\n      <td>승차</td>\n      <td>798</td>\n      <td>366</td>\n      <td>198</td>\n      <td>236</td>\n      <td>310</td>\n      <td>...</td>\n      <td>1636</td>\n      <td>1748</td>\n      <td>1890</td>\n      <td>1879</td>\n      <td>1827</td>\n      <td>1955</td>\n      <td>1800</td>\n      <td>1259</td>\n      <td>406</td>\n      <td>6</td>\n    </tr>\n  </tbody>\n</table>\n<p>5 rows × 25 columns</p>\n</div>"
     },
     "metadata": {},
     "execution_count": 4
    }
   ],
   "source": [
    "import pandas as pd\n",
    "\n",
    "data_2020 = pd.read_csv(r'C:\\Users\\IBK\\Documents\\Seoul_Metro\\서울교통공사_역별_일별_시간대별_승하차인원_20201130.csv', encoding='euc-kr')\n",
    "data_2020.head()"
   ]
  },
  {
   "cell_type": "code",
   "execution_count": 5,
   "metadata": {},
   "outputs": [],
   "source": [
    "col_to_del_2020 = ['호선']"
   ]
  },
  {
   "cell_type": "code",
   "execution_count": 6,
   "metadata": {},
   "outputs": [
    {
     "output_type": "execute_result",
     "data": {
      "text/plain": [
       "          날짜   호선  역번호   역명  구분  06시 이전  06 ~ 07  07 ~ 08  08 ~ 09  09 ~ 10  \\\n",
       "0 2019-01-01  1호선  150  서울역  승차     348      321      348      741      940   \n",
       "1 2019-01-01  1호선  150  서울역  하차     222      821      808      961     1472   \n",
       "2 2019-01-01  1호선  151   시청  승차      87       98      143      206      280   \n",
       "3 2019-01-01  1호선  151   시청  하차      48      237      323      571      577   \n",
       "4 2019-01-01  1호선  152   종각  승차     669      318      217      203      333   \n",
       "\n",
       "   ...  16 ~ 17  17 ~ 18  18 ~ 19  19 ~ 20  20 ~ 21  21 ~ 22  22 ~ 23  \\\n",
       "0  ...     3226     3447     3277     2898     2590     3004     2234   \n",
       "1  ...     2491     2572     2060     1991     1683     1217      764   \n",
       "2  ...      958     1062     1146     1119      992      904      570   \n",
       "3  ...      733      746      606      374      311      268      177   \n",
       "4  ...     1870     2129     2024     1806     1796     1780     1296   \n",
       "\n",
       "   23 ~ 24  24시 이후    합 계  \n",
       "0      970      38  39559  \n",
       "1      456     149  31279  \n",
       "2      211       6  11836  \n",
       "3      144      57  10359  \n",
       "4      497      31  21042  \n",
       "\n",
       "[5 rows x 26 columns]"
      ],
      "text/html": "<div>\n<style scoped>\n    .dataframe tbody tr th:only-of-type {\n        vertical-align: middle;\n    }\n\n    .dataframe tbody tr th {\n        vertical-align: top;\n    }\n\n    .dataframe thead th {\n        text-align: right;\n    }\n</style>\n<table border=\"1\" class=\"dataframe\">\n  <thead>\n    <tr style=\"text-align: right;\">\n      <th></th>\n      <th>날짜</th>\n      <th>호선</th>\n      <th>역번호</th>\n      <th>역명</th>\n      <th>구분</th>\n      <th>06시 이전</th>\n      <th>06 ~ 07</th>\n      <th>07 ~ 08</th>\n      <th>08 ~ 09</th>\n      <th>09 ~ 10</th>\n      <th>...</th>\n      <th>16 ~ 17</th>\n      <th>17 ~ 18</th>\n      <th>18 ~ 19</th>\n      <th>19 ~ 20</th>\n      <th>20 ~ 21</th>\n      <th>21 ~ 22</th>\n      <th>22 ~ 23</th>\n      <th>23 ~ 24</th>\n      <th>24시 이후</th>\n      <th>합 계</th>\n    </tr>\n  </thead>\n  <tbody>\n    <tr>\n      <th>0</th>\n      <td>2019-01-01</td>\n      <td>1호선</td>\n      <td>150</td>\n      <td>서울역</td>\n      <td>승차</td>\n      <td>348</td>\n      <td>321</td>\n      <td>348</td>\n      <td>741</td>\n      <td>940</td>\n      <td>...</td>\n      <td>3226</td>\n      <td>3447</td>\n      <td>3277</td>\n      <td>2898</td>\n      <td>2590</td>\n      <td>3004</td>\n      <td>2234</td>\n      <td>970</td>\n      <td>38</td>\n      <td>39559</td>\n    </tr>\n    <tr>\n      <th>1</th>\n      <td>2019-01-01</td>\n      <td>1호선</td>\n      <td>150</td>\n      <td>서울역</td>\n      <td>하차</td>\n      <td>222</td>\n      <td>821</td>\n      <td>808</td>\n      <td>961</td>\n      <td>1472</td>\n      <td>...</td>\n      <td>2491</td>\n      <td>2572</td>\n      <td>2060</td>\n      <td>1991</td>\n      <td>1683</td>\n      <td>1217</td>\n      <td>764</td>\n      <td>456</td>\n      <td>149</td>\n      <td>31279</td>\n    </tr>\n    <tr>\n      <th>2</th>\n      <td>2019-01-01</td>\n      <td>1호선</td>\n      <td>151</td>\n      <td>시청</td>\n      <td>승차</td>\n      <td>87</td>\n      <td>98</td>\n      <td>143</td>\n      <td>206</td>\n      <td>280</td>\n      <td>...</td>\n      <td>958</td>\n      <td>1062</td>\n      <td>1146</td>\n      <td>1119</td>\n      <td>992</td>\n      <td>904</td>\n      <td>570</td>\n      <td>211</td>\n      <td>6</td>\n      <td>11836</td>\n    </tr>\n    <tr>\n      <th>3</th>\n      <td>2019-01-01</td>\n      <td>1호선</td>\n      <td>151</td>\n      <td>시청</td>\n      <td>하차</td>\n      <td>48</td>\n      <td>237</td>\n      <td>323</td>\n      <td>571</td>\n      <td>577</td>\n      <td>...</td>\n      <td>733</td>\n      <td>746</td>\n      <td>606</td>\n      <td>374</td>\n      <td>311</td>\n      <td>268</td>\n      <td>177</td>\n      <td>144</td>\n      <td>57</td>\n      <td>10359</td>\n    </tr>\n    <tr>\n      <th>4</th>\n      <td>2019-01-01</td>\n      <td>1호선</td>\n      <td>152</td>\n      <td>종각</td>\n      <td>승차</td>\n      <td>669</td>\n      <td>318</td>\n      <td>217</td>\n      <td>203</td>\n      <td>333</td>\n      <td>...</td>\n      <td>1870</td>\n      <td>2129</td>\n      <td>2024</td>\n      <td>1806</td>\n      <td>1796</td>\n      <td>1780</td>\n      <td>1296</td>\n      <td>497</td>\n      <td>31</td>\n      <td>21042</td>\n    </tr>\n  </tbody>\n</table>\n<p>5 rows × 26 columns</p>\n</div>"
     },
     "metadata": {},
     "execution_count": 6
    }
   ],
   "source": [
    "data_2019 = pd.read_excel(r'C:\\Users\\IBK\\Documents\\Seoul_Metro\\2019년 1월_12월 역별 시간대별 승하차인원.xlsx', header=1)\n",
    "data_2019.head()"
   ]
  },
  {
   "cell_type": "code",
   "execution_count": 7,
   "metadata": {},
   "outputs": [],
   "source": [
    "col_to_del_2019 = ['호선','합 계']"
   ]
  },
  {
   "cell_type": "code",
   "execution_count": 8,
   "metadata": {},
   "outputs": [
    {
     "output_type": "execute_result",
     "data": {
      "text/plain": [
       "          날짜 구분   호선  역번호   역명 구분.1  05 ~ 06  06 ~ 07  07 ~ 08  08 ~ 09  ...  \\\n",
       "0 2018-01-01  휴  1호선  150  서울역   승차      373      318      365      785  ...   \n",
       "1 2018-01-01  휴  1호선  150  서울역   하차      205     1040      872      984  ...   \n",
       "2 2018-01-01  휴  1호선  151   시청   승차       87      105      124      197  ...   \n",
       "3 2018-01-01  휴  1호선  151   시청   하차       47      294      497     1017  ...   \n",
       "4 2018-01-01  휴  1호선  152   종각   승차      604      399      191      250  ...   \n",
       "\n",
       "   16 ~ 17  17 ~ 18  18 ~ 19  19 ~ 20  20 ~ 21  21 ~ 22  22 ~ 23  23 ~ 24  \\\n",
       "0     3476     3891     3227     2945     2382     3070     1750      781   \n",
       "1     2885     2845     2337     2131     1669     1404      868      477   \n",
       "2     1027     1102     1278     1163     1032      975      553      214   \n",
       "3      781      702      552      388      308      236      160      100   \n",
       "4     2127     2172     2171     1873     1935     2084     1458      580   \n",
       "\n",
       "   00 ~ 01    합 계  \n",
       "0       96  40393  \n",
       "1      147  34730  \n",
       "2        9  12298  \n",
       "3       39  10945  \n",
       "4       28  22621  \n",
       "\n",
       "[5 rows x 27 columns]"
      ],
      "text/html": "<div>\n<style scoped>\n    .dataframe tbody tr th:only-of-type {\n        vertical-align: middle;\n    }\n\n    .dataframe tbody tr th {\n        vertical-align: top;\n    }\n\n    .dataframe thead th {\n        text-align: right;\n    }\n</style>\n<table border=\"1\" class=\"dataframe\">\n  <thead>\n    <tr style=\"text-align: right;\">\n      <th></th>\n      <th>날짜</th>\n      <th>구분</th>\n      <th>호선</th>\n      <th>역번호</th>\n      <th>역명</th>\n      <th>구분.1</th>\n      <th>05 ~ 06</th>\n      <th>06 ~ 07</th>\n      <th>07 ~ 08</th>\n      <th>08 ~ 09</th>\n      <th>...</th>\n      <th>16 ~ 17</th>\n      <th>17 ~ 18</th>\n      <th>18 ~ 19</th>\n      <th>19 ~ 20</th>\n      <th>20 ~ 21</th>\n      <th>21 ~ 22</th>\n      <th>22 ~ 23</th>\n      <th>23 ~ 24</th>\n      <th>00 ~ 01</th>\n      <th>합 계</th>\n    </tr>\n  </thead>\n  <tbody>\n    <tr>\n      <th>0</th>\n      <td>2018-01-01</td>\n      <td>휴</td>\n      <td>1호선</td>\n      <td>150</td>\n      <td>서울역</td>\n      <td>승차</td>\n      <td>373</td>\n      <td>318</td>\n      <td>365</td>\n      <td>785</td>\n      <td>...</td>\n      <td>3476</td>\n      <td>3891</td>\n      <td>3227</td>\n      <td>2945</td>\n      <td>2382</td>\n      <td>3070</td>\n      <td>1750</td>\n      <td>781</td>\n      <td>96</td>\n      <td>40393</td>\n    </tr>\n    <tr>\n      <th>1</th>\n      <td>2018-01-01</td>\n      <td>휴</td>\n      <td>1호선</td>\n      <td>150</td>\n      <td>서울역</td>\n      <td>하차</td>\n      <td>205</td>\n      <td>1040</td>\n      <td>872</td>\n      <td>984</td>\n      <td>...</td>\n      <td>2885</td>\n      <td>2845</td>\n      <td>2337</td>\n      <td>2131</td>\n      <td>1669</td>\n      <td>1404</td>\n      <td>868</td>\n      <td>477</td>\n      <td>147</td>\n      <td>34730</td>\n    </tr>\n    <tr>\n      <th>2</th>\n      <td>2018-01-01</td>\n      <td>휴</td>\n      <td>1호선</td>\n      <td>151</td>\n      <td>시청</td>\n      <td>승차</td>\n      <td>87</td>\n      <td>105</td>\n      <td>124</td>\n      <td>197</td>\n      <td>...</td>\n      <td>1027</td>\n      <td>1102</td>\n      <td>1278</td>\n      <td>1163</td>\n      <td>1032</td>\n      <td>975</td>\n      <td>553</td>\n      <td>214</td>\n      <td>9</td>\n      <td>12298</td>\n    </tr>\n    <tr>\n      <th>3</th>\n      <td>2018-01-01</td>\n      <td>휴</td>\n      <td>1호선</td>\n      <td>151</td>\n      <td>시청</td>\n      <td>하차</td>\n      <td>47</td>\n      <td>294</td>\n      <td>497</td>\n      <td>1017</td>\n      <td>...</td>\n      <td>781</td>\n      <td>702</td>\n      <td>552</td>\n      <td>388</td>\n      <td>308</td>\n      <td>236</td>\n      <td>160</td>\n      <td>100</td>\n      <td>39</td>\n      <td>10945</td>\n    </tr>\n    <tr>\n      <th>4</th>\n      <td>2018-01-01</td>\n      <td>휴</td>\n      <td>1호선</td>\n      <td>152</td>\n      <td>종각</td>\n      <td>승차</td>\n      <td>604</td>\n      <td>399</td>\n      <td>191</td>\n      <td>250</td>\n      <td>...</td>\n      <td>2127</td>\n      <td>2172</td>\n      <td>2171</td>\n      <td>1873</td>\n      <td>1935</td>\n      <td>2084</td>\n      <td>1458</td>\n      <td>580</td>\n      <td>28</td>\n      <td>22621</td>\n    </tr>\n  </tbody>\n</table>\n<p>5 rows × 27 columns</p>\n</div>"
     },
     "metadata": {},
     "execution_count": 8
    }
   ],
   "source": [
    "data_2018 = pd.read_excel(r'C:\\Users\\IBK\\Documents\\Seoul_Metro\\서울교통공사_관할역별_일별_시간대별_이용인원_20181231.xlsx', header=1)\n",
    "data_2018.head()"
   ]
  },
  {
   "cell_type": "code",
   "execution_count": 9,
   "metadata": {},
   "outputs": [],
   "source": [
    "col_to_del_2018 = ['구분','호선','합 계']"
   ]
  },
  {
   "cell_type": "code",
   "execution_count": 10,
   "metadata": {},
   "outputs": [
    {
     "output_type": "execute_result",
     "data": {
      "text/plain": [
       "           날짜  월  역번호        역명  구분  05~06  06~07  07~08  08~09  09~10  ...  \\\n",
       "0  2017-01-01  1  150  서울역(150)  승차    470    286    397    786   1421  ...   \n",
       "1  2017-01-01  1  150  서울역(150)  하차    278    880    859    964   1407  ...   \n",
       "2  2017-01-01  1  151   시청(151)  승차    204    105    112    162    288  ...   \n",
       "3  2017-01-01  1  151   시청(151)  하차     73    203    314    483    669  ...   \n",
       "4  2017-01-01  1  152   종각(152)  승차    791    390    245    270    323  ...   \n",
       "\n",
       "   15~16  16~17  17~18  18~19  19~20  20~21  21~22  22~23  23~24  24~  \n",
       "0   3178   3610   3858   3376   3384   2537   3914   2660    917  112  \n",
       "1   2682   2743   3074   2492   2120   1798   1618    962    551  179  \n",
       "2    727    921    955   1043    885    805    730    556    188    5  \n",
       "3    629    523    483    392    287    257    189    157    122   32  \n",
       "4   1533   1857   2032   1982   1796   1688   1724   1349    523   20  \n",
       "\n",
       "[5 rows x 25 columns]"
      ],
      "text/html": "<div>\n<style scoped>\n    .dataframe tbody tr th:only-of-type {\n        vertical-align: middle;\n    }\n\n    .dataframe tbody tr th {\n        vertical-align: top;\n    }\n\n    .dataframe thead th {\n        text-align: right;\n    }\n</style>\n<table border=\"1\" class=\"dataframe\">\n  <thead>\n    <tr style=\"text-align: right;\">\n      <th></th>\n      <th>날짜</th>\n      <th>월</th>\n      <th>역번호</th>\n      <th>역명</th>\n      <th>구분</th>\n      <th>05~06</th>\n      <th>06~07</th>\n      <th>07~08</th>\n      <th>08~09</th>\n      <th>09~10</th>\n      <th>...</th>\n      <th>15~16</th>\n      <th>16~17</th>\n      <th>17~18</th>\n      <th>18~19</th>\n      <th>19~20</th>\n      <th>20~21</th>\n      <th>21~22</th>\n      <th>22~23</th>\n      <th>23~24</th>\n      <th>24~</th>\n    </tr>\n  </thead>\n  <tbody>\n    <tr>\n      <th>0</th>\n      <td>2017-01-01</td>\n      <td>1</td>\n      <td>150</td>\n      <td>서울역(150)</td>\n      <td>승차</td>\n      <td>470</td>\n      <td>286</td>\n      <td>397</td>\n      <td>786</td>\n      <td>1421</td>\n      <td>...</td>\n      <td>3178</td>\n      <td>3610</td>\n      <td>3858</td>\n      <td>3376</td>\n      <td>3384</td>\n      <td>2537</td>\n      <td>3914</td>\n      <td>2660</td>\n      <td>917</td>\n      <td>112</td>\n    </tr>\n    <tr>\n      <th>1</th>\n      <td>2017-01-01</td>\n      <td>1</td>\n      <td>150</td>\n      <td>서울역(150)</td>\n      <td>하차</td>\n      <td>278</td>\n      <td>880</td>\n      <td>859</td>\n      <td>964</td>\n      <td>1407</td>\n      <td>...</td>\n      <td>2682</td>\n      <td>2743</td>\n      <td>3074</td>\n      <td>2492</td>\n      <td>2120</td>\n      <td>1798</td>\n      <td>1618</td>\n      <td>962</td>\n      <td>551</td>\n      <td>179</td>\n    </tr>\n    <tr>\n      <th>2</th>\n      <td>2017-01-01</td>\n      <td>1</td>\n      <td>151</td>\n      <td>시청(151)</td>\n      <td>승차</td>\n      <td>204</td>\n      <td>105</td>\n      <td>112</td>\n      <td>162</td>\n      <td>288</td>\n      <td>...</td>\n      <td>727</td>\n      <td>921</td>\n      <td>955</td>\n      <td>1043</td>\n      <td>885</td>\n      <td>805</td>\n      <td>730</td>\n      <td>556</td>\n      <td>188</td>\n      <td>5</td>\n    </tr>\n    <tr>\n      <th>3</th>\n      <td>2017-01-01</td>\n      <td>1</td>\n      <td>151</td>\n      <td>시청(151)</td>\n      <td>하차</td>\n      <td>73</td>\n      <td>203</td>\n      <td>314</td>\n      <td>483</td>\n      <td>669</td>\n      <td>...</td>\n      <td>629</td>\n      <td>523</td>\n      <td>483</td>\n      <td>392</td>\n      <td>287</td>\n      <td>257</td>\n      <td>189</td>\n      <td>157</td>\n      <td>122</td>\n      <td>32</td>\n    </tr>\n    <tr>\n      <th>4</th>\n      <td>2017-01-01</td>\n      <td>1</td>\n      <td>152</td>\n      <td>종각(152)</td>\n      <td>승차</td>\n      <td>791</td>\n      <td>390</td>\n      <td>245</td>\n      <td>270</td>\n      <td>323</td>\n      <td>...</td>\n      <td>1533</td>\n      <td>1857</td>\n      <td>2032</td>\n      <td>1982</td>\n      <td>1796</td>\n      <td>1688</td>\n      <td>1724</td>\n      <td>1349</td>\n      <td>523</td>\n      <td>20</td>\n    </tr>\n  </tbody>\n</table>\n<p>5 rows × 25 columns</p>\n</div>"
     },
     "metadata": {},
     "execution_count": 10
    }
   ],
   "source": [
    "data_2017_1 = pd.read_excel(r'C:\\Users\\IBK\\Documents\\Seoul_Metro\\2017년 일별 역별 시간대별 승하차인원(1-8호선)_1-5월.xlsx', header=0)\n",
    "data_2017_1.head()"
   ]
  },
  {
   "cell_type": "code",
   "execution_count": 11,
   "metadata": {},
   "outputs": [],
   "source": [
    "col_to_del_2017_1 = ['월']"
   ]
  },
  {
   "cell_type": "code",
   "execution_count": 12,
   "metadata": {},
   "outputs": [
    {
     "output_type": "execute_result",
     "data": {
      "text/plain": [
       "           날짜  월  역번호        역명  구분  05~06  06~07  07~08  08~09  09~10  ...  \\\n",
       "0  2017-06-01  6  150  서울역(150)  승차    381    579   1624   2619   1955  ...   \n",
       "1  2017-06-01  6  150  서울역(150)  하차    273   2023   4819  10126   5726  ...   \n",
       "2  2017-06-01  6  151   시청(151)  승차     75    153    287    397    452  ...   \n",
       "3  2017-06-01  6  151   시청(151)  하차    177    923   3561   8231   3377  ...   \n",
       "4  2017-06-01  6  152   종각(152)  승차    132    177    386    571    615  ...   \n",
       "\n",
       "   15~16  16~17  17~18  18~19  19~20  20~21  21~22  22~23  23~24  24~  \n",
       "0   3147   3468   4813   8959   4840   3403   3570   2208   1151  156  \n",
       "1   2385   2498   2738   3454   2422   1654   1504   1320    797  317  \n",
       "2   1459   1656   2338   5845   2859   2291   2407   1634    635   58  \n",
       "3    827    700    928   1108    643    277    262    226    131   36  \n",
       "4   2508   2693   4311   9880   5271   4221   5067   4063   1935  180  \n",
       "\n",
       "[5 rows x 25 columns]"
      ],
      "text/html": "<div>\n<style scoped>\n    .dataframe tbody tr th:only-of-type {\n        vertical-align: middle;\n    }\n\n    .dataframe tbody tr th {\n        vertical-align: top;\n    }\n\n    .dataframe thead th {\n        text-align: right;\n    }\n</style>\n<table border=\"1\" class=\"dataframe\">\n  <thead>\n    <tr style=\"text-align: right;\">\n      <th></th>\n      <th>날짜</th>\n      <th>월</th>\n      <th>역번호</th>\n      <th>역명</th>\n      <th>구분</th>\n      <th>05~06</th>\n      <th>06~07</th>\n      <th>07~08</th>\n      <th>08~09</th>\n      <th>09~10</th>\n      <th>...</th>\n      <th>15~16</th>\n      <th>16~17</th>\n      <th>17~18</th>\n      <th>18~19</th>\n      <th>19~20</th>\n      <th>20~21</th>\n      <th>21~22</th>\n      <th>22~23</th>\n      <th>23~24</th>\n      <th>24~</th>\n    </tr>\n  </thead>\n  <tbody>\n    <tr>\n      <th>0</th>\n      <td>2017-06-01</td>\n      <td>6</td>\n      <td>150</td>\n      <td>서울역(150)</td>\n      <td>승차</td>\n      <td>381</td>\n      <td>579</td>\n      <td>1624</td>\n      <td>2619</td>\n      <td>1955</td>\n      <td>...</td>\n      <td>3147</td>\n      <td>3468</td>\n      <td>4813</td>\n      <td>8959</td>\n      <td>4840</td>\n      <td>3403</td>\n      <td>3570</td>\n      <td>2208</td>\n      <td>1151</td>\n      <td>156</td>\n    </tr>\n    <tr>\n      <th>1</th>\n      <td>2017-06-01</td>\n      <td>6</td>\n      <td>150</td>\n      <td>서울역(150)</td>\n      <td>하차</td>\n      <td>273</td>\n      <td>2023</td>\n      <td>4819</td>\n      <td>10126</td>\n      <td>5726</td>\n      <td>...</td>\n      <td>2385</td>\n      <td>2498</td>\n      <td>2738</td>\n      <td>3454</td>\n      <td>2422</td>\n      <td>1654</td>\n      <td>1504</td>\n      <td>1320</td>\n      <td>797</td>\n      <td>317</td>\n    </tr>\n    <tr>\n      <th>2</th>\n      <td>2017-06-01</td>\n      <td>6</td>\n      <td>151</td>\n      <td>시청(151)</td>\n      <td>승차</td>\n      <td>75</td>\n      <td>153</td>\n      <td>287</td>\n      <td>397</td>\n      <td>452</td>\n      <td>...</td>\n      <td>1459</td>\n      <td>1656</td>\n      <td>2338</td>\n      <td>5845</td>\n      <td>2859</td>\n      <td>2291</td>\n      <td>2407</td>\n      <td>1634</td>\n      <td>635</td>\n      <td>58</td>\n    </tr>\n    <tr>\n      <th>3</th>\n      <td>2017-06-01</td>\n      <td>6</td>\n      <td>151</td>\n      <td>시청(151)</td>\n      <td>하차</td>\n      <td>177</td>\n      <td>923</td>\n      <td>3561</td>\n      <td>8231</td>\n      <td>3377</td>\n      <td>...</td>\n      <td>827</td>\n      <td>700</td>\n      <td>928</td>\n      <td>1108</td>\n      <td>643</td>\n      <td>277</td>\n      <td>262</td>\n      <td>226</td>\n      <td>131</td>\n      <td>36</td>\n    </tr>\n    <tr>\n      <th>4</th>\n      <td>2017-06-01</td>\n      <td>6</td>\n      <td>152</td>\n      <td>종각(152)</td>\n      <td>승차</td>\n      <td>132</td>\n      <td>177</td>\n      <td>386</td>\n      <td>571</td>\n      <td>615</td>\n      <td>...</td>\n      <td>2508</td>\n      <td>2693</td>\n      <td>4311</td>\n      <td>9880</td>\n      <td>5271</td>\n      <td>4221</td>\n      <td>5067</td>\n      <td>4063</td>\n      <td>1935</td>\n      <td>180</td>\n    </tr>\n  </tbody>\n</table>\n<p>5 rows × 25 columns</p>\n</div>"
     },
     "metadata": {},
     "execution_count": 12
    }
   ],
   "source": [
    "data_2017_2 = pd.read_excel(r'C:\\Users\\IBK\\Documents\\Seoul_Metro\\2017년 일별 역별 시간대별 승하차인원(1-8호선)_6-12월.xlsx', header=None, names=data_2017_1.columns)\n",
    "data_2017_2.head()"
   ]
  },
  {
   "cell_type": "code",
   "execution_count": 13,
   "metadata": {},
   "outputs": [],
   "source": [
    "col_to_del_2017_2 = ['월']"
   ]
  },
  {
   "cell_type": "code",
   "execution_count": 14,
   "metadata": {},
   "outputs": [
    {
     "output_type": "execute_result",
     "data": {
      "text/plain": [
       "           날짜  월  역번호        역명  구분  05~06  06~07  07~08  08~09  09~10  ...  \\\n",
       "0  2016-01-01  1  150  서울역(150)  승차    469    339    584   1144   1723  ...   \n",
       "1  2016-01-01  1  150  서울역(150)  하차    342   1637   1753   1856   2438  ...   \n",
       "2  2016-01-01  1  151   시청(151)  승차    103    127    110    191    298  ...   \n",
       "3  2016-01-01  1  151   시청(151)  하차     68    306    554    939    689  ...   \n",
       "4  2016-01-01  1  152   종각(152)  승차    702    341    234    296    335  ...   \n",
       "\n",
       "   15~16  16~17  17~18  18~19  19~20  20~21  21~22  22~23  23~24  24~  \n",
       "0   3639   3554   3200   3076   2519   2281   2398   2056    996   58  \n",
       "1   3341   3108   2656   2134   1859   1394   1344   1056    612  222  \n",
       "2   1069   1339   1458   1499   1383   1284   1198    675    375    9  \n",
       "3   1033   1035    951    792    618    402    309    192    114   34  \n",
       "4   1772   2175   2580   2627   2302   2315   2365   2140   1117   51  \n",
       "\n",
       "[5 rows x 25 columns]"
      ],
      "text/html": "<div>\n<style scoped>\n    .dataframe tbody tr th:only-of-type {\n        vertical-align: middle;\n    }\n\n    .dataframe tbody tr th {\n        vertical-align: top;\n    }\n\n    .dataframe thead th {\n        text-align: right;\n    }\n</style>\n<table border=\"1\" class=\"dataframe\">\n  <thead>\n    <tr style=\"text-align: right;\">\n      <th></th>\n      <th>날짜</th>\n      <th>월</th>\n      <th>역번호</th>\n      <th>역명</th>\n      <th>구분</th>\n      <th>05~06</th>\n      <th>06~07</th>\n      <th>07~08</th>\n      <th>08~09</th>\n      <th>09~10</th>\n      <th>...</th>\n      <th>15~16</th>\n      <th>16~17</th>\n      <th>17~18</th>\n      <th>18~19</th>\n      <th>19~20</th>\n      <th>20~21</th>\n      <th>21~22</th>\n      <th>22~23</th>\n      <th>23~24</th>\n      <th>24~</th>\n    </tr>\n  </thead>\n  <tbody>\n    <tr>\n      <th>0</th>\n      <td>2016-01-01</td>\n      <td>1</td>\n      <td>150</td>\n      <td>서울역(150)</td>\n      <td>승차</td>\n      <td>469</td>\n      <td>339</td>\n      <td>584</td>\n      <td>1144</td>\n      <td>1723</td>\n      <td>...</td>\n      <td>3639</td>\n      <td>3554</td>\n      <td>3200</td>\n      <td>3076</td>\n      <td>2519</td>\n      <td>2281</td>\n      <td>2398</td>\n      <td>2056</td>\n      <td>996</td>\n      <td>58</td>\n    </tr>\n    <tr>\n      <th>1</th>\n      <td>2016-01-01</td>\n      <td>1</td>\n      <td>150</td>\n      <td>서울역(150)</td>\n      <td>하차</td>\n      <td>342</td>\n      <td>1637</td>\n      <td>1753</td>\n      <td>1856</td>\n      <td>2438</td>\n      <td>...</td>\n      <td>3341</td>\n      <td>3108</td>\n      <td>2656</td>\n      <td>2134</td>\n      <td>1859</td>\n      <td>1394</td>\n      <td>1344</td>\n      <td>1056</td>\n      <td>612</td>\n      <td>222</td>\n    </tr>\n    <tr>\n      <th>2</th>\n      <td>2016-01-01</td>\n      <td>1</td>\n      <td>151</td>\n      <td>시청(151)</td>\n      <td>승차</td>\n      <td>103</td>\n      <td>127</td>\n      <td>110</td>\n      <td>191</td>\n      <td>298</td>\n      <td>...</td>\n      <td>1069</td>\n      <td>1339</td>\n      <td>1458</td>\n      <td>1499</td>\n      <td>1383</td>\n      <td>1284</td>\n      <td>1198</td>\n      <td>675</td>\n      <td>375</td>\n      <td>9</td>\n    </tr>\n    <tr>\n      <th>3</th>\n      <td>2016-01-01</td>\n      <td>1</td>\n      <td>151</td>\n      <td>시청(151)</td>\n      <td>하차</td>\n      <td>68</td>\n      <td>306</td>\n      <td>554</td>\n      <td>939</td>\n      <td>689</td>\n      <td>...</td>\n      <td>1033</td>\n      <td>1035</td>\n      <td>951</td>\n      <td>792</td>\n      <td>618</td>\n      <td>402</td>\n      <td>309</td>\n      <td>192</td>\n      <td>114</td>\n      <td>34</td>\n    </tr>\n    <tr>\n      <th>4</th>\n      <td>2016-01-01</td>\n      <td>1</td>\n      <td>152</td>\n      <td>종각(152)</td>\n      <td>승차</td>\n      <td>702</td>\n      <td>341</td>\n      <td>234</td>\n      <td>296</td>\n      <td>335</td>\n      <td>...</td>\n      <td>1772</td>\n      <td>2175</td>\n      <td>2580</td>\n      <td>2627</td>\n      <td>2302</td>\n      <td>2315</td>\n      <td>2365</td>\n      <td>2140</td>\n      <td>1117</td>\n      <td>51</td>\n    </tr>\n  </tbody>\n</table>\n<p>5 rows × 25 columns</p>\n</div>"
     },
     "metadata": {},
     "execution_count": 14
    }
   ],
   "source": [
    "data_2016 = pd.read_excel(r'C:\\Users\\IBK\\Documents\\Seoul_Metro\\2016년 일별 역별 시간대별 승하차인원(1_8호선).xlsx', sheet_name=2)\r\n",
    "data_2016.head()"
   ]
  },
  {
   "cell_type": "code",
   "execution_count": 15,
   "metadata": {},
   "outputs": [],
   "source": [
    "col_to_del_2016 = ['월']"
   ]
  },
  {
   "cell_type": "code",
   "execution_count": 16,
   "metadata": {},
   "outputs": [
    {
     "output_type": "execute_result",
     "data": {
      "text/plain": [
       "           날짜  역번호         역명  구분  05~06  06~07  07~08  08~09  09~10  10~11  \\\n",
       "0  2015-01-01  150   서울역(150)  승차    441    399    572   1106   1474   2020   \n",
       "1  2015-01-01  151    시청(151)  승차    101     95    104    127    233    308   \n",
       "2  2015-01-01  152    종각(152)  승차    898    482    281    291    328    449   \n",
       "3  2015-01-01  153  종로3가(153)  승차    371    212    155    189    347    491   \n",
       "4  2015-01-01  154  종로5가(154)  승차     57    101     83    128    209    323   \n",
       "\n",
       "   ...  15~16  16~17  17~18  18~19  19~20  20~21  21~22  22~23  23~24  24~  \n",
       "0  ...   4036   4030   3666   3738   3091   2749   3247   2437   1279   73  \n",
       "1  ...   1038   1027   1176   1133    850    950    612    497    192    6  \n",
       "2  ...   1530   2012   2176   2047   1767   1834   1825   1666    736   37  \n",
       "3  ...   1537   1791   1954   1526   1297   1149   1257    953    415   15  \n",
       "4  ...    915    984    948    962    722    576    431    241    102    3  \n",
       "\n",
       "[5 rows x 24 columns]"
      ],
      "text/html": "<div>\n<style scoped>\n    .dataframe tbody tr th:only-of-type {\n        vertical-align: middle;\n    }\n\n    .dataframe tbody tr th {\n        vertical-align: top;\n    }\n\n    .dataframe thead th {\n        text-align: right;\n    }\n</style>\n<table border=\"1\" class=\"dataframe\">\n  <thead>\n    <tr style=\"text-align: right;\">\n      <th></th>\n      <th>날짜</th>\n      <th>역번호</th>\n      <th>역명</th>\n      <th>구분</th>\n      <th>05~06</th>\n      <th>06~07</th>\n      <th>07~08</th>\n      <th>08~09</th>\n      <th>09~10</th>\n      <th>10~11</th>\n      <th>...</th>\n      <th>15~16</th>\n      <th>16~17</th>\n      <th>17~18</th>\n      <th>18~19</th>\n      <th>19~20</th>\n      <th>20~21</th>\n      <th>21~22</th>\n      <th>22~23</th>\n      <th>23~24</th>\n      <th>24~</th>\n    </tr>\n  </thead>\n  <tbody>\n    <tr>\n      <th>0</th>\n      <td>2015-01-01</td>\n      <td>150</td>\n      <td>서울역(150)</td>\n      <td>승차</td>\n      <td>441</td>\n      <td>399</td>\n      <td>572</td>\n      <td>1106</td>\n      <td>1474</td>\n      <td>2020</td>\n      <td>...</td>\n      <td>4036</td>\n      <td>4030</td>\n      <td>3666</td>\n      <td>3738</td>\n      <td>3091</td>\n      <td>2749</td>\n      <td>3247</td>\n      <td>2437</td>\n      <td>1279</td>\n      <td>73</td>\n    </tr>\n    <tr>\n      <th>1</th>\n      <td>2015-01-01</td>\n      <td>151</td>\n      <td>시청(151)</td>\n      <td>승차</td>\n      <td>101</td>\n      <td>95</td>\n      <td>104</td>\n      <td>127</td>\n      <td>233</td>\n      <td>308</td>\n      <td>...</td>\n      <td>1038</td>\n      <td>1027</td>\n      <td>1176</td>\n      <td>1133</td>\n      <td>850</td>\n      <td>950</td>\n      <td>612</td>\n      <td>497</td>\n      <td>192</td>\n      <td>6</td>\n    </tr>\n    <tr>\n      <th>2</th>\n      <td>2015-01-01</td>\n      <td>152</td>\n      <td>종각(152)</td>\n      <td>승차</td>\n      <td>898</td>\n      <td>482</td>\n      <td>281</td>\n      <td>291</td>\n      <td>328</td>\n      <td>449</td>\n      <td>...</td>\n      <td>1530</td>\n      <td>2012</td>\n      <td>2176</td>\n      <td>2047</td>\n      <td>1767</td>\n      <td>1834</td>\n      <td>1825</td>\n      <td>1666</td>\n      <td>736</td>\n      <td>37</td>\n    </tr>\n    <tr>\n      <th>3</th>\n      <td>2015-01-01</td>\n      <td>153</td>\n      <td>종로3가(153)</td>\n      <td>승차</td>\n      <td>371</td>\n      <td>212</td>\n      <td>155</td>\n      <td>189</td>\n      <td>347</td>\n      <td>491</td>\n      <td>...</td>\n      <td>1537</td>\n      <td>1791</td>\n      <td>1954</td>\n      <td>1526</td>\n      <td>1297</td>\n      <td>1149</td>\n      <td>1257</td>\n      <td>953</td>\n      <td>415</td>\n      <td>15</td>\n    </tr>\n    <tr>\n      <th>4</th>\n      <td>2015-01-01</td>\n      <td>154</td>\n      <td>종로5가(154)</td>\n      <td>승차</td>\n      <td>57</td>\n      <td>101</td>\n      <td>83</td>\n      <td>128</td>\n      <td>209</td>\n      <td>323</td>\n      <td>...</td>\n      <td>915</td>\n      <td>984</td>\n      <td>948</td>\n      <td>962</td>\n      <td>722</td>\n      <td>576</td>\n      <td>431</td>\n      <td>241</td>\n      <td>102</td>\n      <td>3</td>\n    </tr>\n  </tbody>\n</table>\n<p>5 rows × 24 columns</p>\n</div>"
     },
     "metadata": {},
     "execution_count": 16
    }
   ],
   "source": [
    "data_2015 = pd.read_excel(r'C:\\Users\\IBK\\Documents\\Seoul_Metro\\2015년 일별 역별 시간대별 승하차인원(1_8호선).xlsx', sheet_name=1)\n",
    "data_2015.head()"
   ]
  },
  {
   "cell_type": "code",
   "execution_count": 17,
   "metadata": {},
   "outputs": [
    {
     "output_type": "execute_result",
     "data": {
      "text/plain": [
       "           날짜  역번호        역명  구분  05~06  06~07  07~08  08~09  09~10  10~11  \\\n",
       "0  2014-01-01  150  서울역(150)  승차    543    512    601   1099   1617   1941   \n",
       "1  2014-01-01  150  서울역(150)  하차    466   1231   1073   1280   1516   1738   \n",
       "2  2014-01-01  151   시청(151)  승차    144    134     99    161    253    251   \n",
       "3  2014-01-01  151   시청(151)  하차     39    231    226    463    576    585   \n",
       "4  2014-01-01  152   종각(152)  승차    890    448    261    286    314    471   \n",
       "\n",
       "   ...  15~16  16~17  17~18  18~19  19~20  20~21  21~22  22~23  23~24  24~  \n",
       "0  ...   4179   3633   3212   2667   3279   2720   2820   2122   1000   91  \n",
       "1  ...   2718   3013   3033   2849   2274   2139   1743   1289    620  172  \n",
       "2  ...   1087   1266   1266   1398   1081   1182    986    512    131    8  \n",
       "3  ...   1143    699    628    451    304    264    201    160     87   38  \n",
       "4  ...   1963   2620   2687   2646   2091   2185   2182   1699    676   28  \n",
       "\n",
       "[5 rows x 24 columns]"
      ],
      "text/html": "<div>\n<style scoped>\n    .dataframe tbody tr th:only-of-type {\n        vertical-align: middle;\n    }\n\n    .dataframe tbody tr th {\n        vertical-align: top;\n    }\n\n    .dataframe thead th {\n        text-align: right;\n    }\n</style>\n<table border=\"1\" class=\"dataframe\">\n  <thead>\n    <tr style=\"text-align: right;\">\n      <th></th>\n      <th>날짜</th>\n      <th>역번호</th>\n      <th>역명</th>\n      <th>구분</th>\n      <th>05~06</th>\n      <th>06~07</th>\n      <th>07~08</th>\n      <th>08~09</th>\n      <th>09~10</th>\n      <th>10~11</th>\n      <th>...</th>\n      <th>15~16</th>\n      <th>16~17</th>\n      <th>17~18</th>\n      <th>18~19</th>\n      <th>19~20</th>\n      <th>20~21</th>\n      <th>21~22</th>\n      <th>22~23</th>\n      <th>23~24</th>\n      <th>24~</th>\n    </tr>\n  </thead>\n  <tbody>\n    <tr>\n      <th>0</th>\n      <td>2014-01-01</td>\n      <td>150</td>\n      <td>서울역(150)</td>\n      <td>승차</td>\n      <td>543</td>\n      <td>512</td>\n      <td>601</td>\n      <td>1099</td>\n      <td>1617</td>\n      <td>1941</td>\n      <td>...</td>\n      <td>4179</td>\n      <td>3633</td>\n      <td>3212</td>\n      <td>2667</td>\n      <td>3279</td>\n      <td>2720</td>\n      <td>2820</td>\n      <td>2122</td>\n      <td>1000</td>\n      <td>91</td>\n    </tr>\n    <tr>\n      <th>1</th>\n      <td>2014-01-01</td>\n      <td>150</td>\n      <td>서울역(150)</td>\n      <td>하차</td>\n      <td>466</td>\n      <td>1231</td>\n      <td>1073</td>\n      <td>1280</td>\n      <td>1516</td>\n      <td>1738</td>\n      <td>...</td>\n      <td>2718</td>\n      <td>3013</td>\n      <td>3033</td>\n      <td>2849</td>\n      <td>2274</td>\n      <td>2139</td>\n      <td>1743</td>\n      <td>1289</td>\n      <td>620</td>\n      <td>172</td>\n    </tr>\n    <tr>\n      <th>2</th>\n      <td>2014-01-01</td>\n      <td>151</td>\n      <td>시청(151)</td>\n      <td>승차</td>\n      <td>144</td>\n      <td>134</td>\n      <td>99</td>\n      <td>161</td>\n      <td>253</td>\n      <td>251</td>\n      <td>...</td>\n      <td>1087</td>\n      <td>1266</td>\n      <td>1266</td>\n      <td>1398</td>\n      <td>1081</td>\n      <td>1182</td>\n      <td>986</td>\n      <td>512</td>\n      <td>131</td>\n      <td>8</td>\n    </tr>\n    <tr>\n      <th>3</th>\n      <td>2014-01-01</td>\n      <td>151</td>\n      <td>시청(151)</td>\n      <td>하차</td>\n      <td>39</td>\n      <td>231</td>\n      <td>226</td>\n      <td>463</td>\n      <td>576</td>\n      <td>585</td>\n      <td>...</td>\n      <td>1143</td>\n      <td>699</td>\n      <td>628</td>\n      <td>451</td>\n      <td>304</td>\n      <td>264</td>\n      <td>201</td>\n      <td>160</td>\n      <td>87</td>\n      <td>38</td>\n    </tr>\n    <tr>\n      <th>4</th>\n      <td>2014-01-01</td>\n      <td>152</td>\n      <td>종각(152)</td>\n      <td>승차</td>\n      <td>890</td>\n      <td>448</td>\n      <td>261</td>\n      <td>286</td>\n      <td>314</td>\n      <td>471</td>\n      <td>...</td>\n      <td>1963</td>\n      <td>2620</td>\n      <td>2687</td>\n      <td>2646</td>\n      <td>2091</td>\n      <td>2185</td>\n      <td>2182</td>\n      <td>1699</td>\n      <td>676</td>\n      <td>28</td>\n    </tr>\n  </tbody>\n</table>\n<p>5 rows × 24 columns</p>\n</div>"
     },
     "metadata": {},
     "execution_count": 17
    }
   ],
   "source": [
    "data_2014 = pd.read_excel(r'C:\\Users\\IBK\\Documents\\Seoul_Metro\\2014년 일별 역별 시간대별 승하차인원(1_8호선).xlsx')\n",
    "data_2014.head()"
   ]
  },
  {
   "cell_type": "code",
   "execution_count": 18,
   "metadata": {},
   "outputs": [
    {
     "output_type": "execute_result",
     "data": {
      "text/plain": [
       "           날짜  역번호        역명  구분  05~06  06~07  07~08  08~09  09~10  10~11  \\\n",
       "0  2013-01-01  150  서울역(150)  승차    417    484    549   1058   1455   2288   \n",
       "1  2013-01-01  150  서울역(150)  하차    385   1143   1170   1435   1949   2027   \n",
       "2  2013-01-01  151   시청(151)  승차     96    109    104    140    189    238   \n",
       "3  2013-01-01  151   시청(151)  하차     34    222    245    422    492    555   \n",
       "4  2013-01-01  152   종각(152)  승차   1016    651    327    338    349    385   \n",
       "\n",
       "   ...  15~16  16~17  17~18  18~19  19~20  20~21  21~22  22~23  23~24  24~  \n",
       "0  ...   4490   4979   4298   4395   3803   3660   4081   2511   2061   67  \n",
       "1  ...   3347   3182   3149   3131   2473   2458   1920   1293    675  165  \n",
       "2  ...    915   1137   1247   1288    891    925    891    505    204   14  \n",
       "3  ...    920    721    483    421    265    250    204    137     68   67  \n",
       "4  ...   1593   2051   2383   2315   2157   2513   2228   1953    795   28  \n",
       "\n",
       "[5 rows x 24 columns]"
      ],
      "text/html": "<div>\n<style scoped>\n    .dataframe tbody tr th:only-of-type {\n        vertical-align: middle;\n    }\n\n    .dataframe tbody tr th {\n        vertical-align: top;\n    }\n\n    .dataframe thead th {\n        text-align: right;\n    }\n</style>\n<table border=\"1\" class=\"dataframe\">\n  <thead>\n    <tr style=\"text-align: right;\">\n      <th></th>\n      <th>날짜</th>\n      <th>역번호</th>\n      <th>역명</th>\n      <th>구분</th>\n      <th>05~06</th>\n      <th>06~07</th>\n      <th>07~08</th>\n      <th>08~09</th>\n      <th>09~10</th>\n      <th>10~11</th>\n      <th>...</th>\n      <th>15~16</th>\n      <th>16~17</th>\n      <th>17~18</th>\n      <th>18~19</th>\n      <th>19~20</th>\n      <th>20~21</th>\n      <th>21~22</th>\n      <th>22~23</th>\n      <th>23~24</th>\n      <th>24~</th>\n    </tr>\n  </thead>\n  <tbody>\n    <tr>\n      <th>0</th>\n      <td>2013-01-01</td>\n      <td>150</td>\n      <td>서울역(150)</td>\n      <td>승차</td>\n      <td>417</td>\n      <td>484</td>\n      <td>549</td>\n      <td>1058</td>\n      <td>1455</td>\n      <td>2288</td>\n      <td>...</td>\n      <td>4490</td>\n      <td>4979</td>\n      <td>4298</td>\n      <td>4395</td>\n      <td>3803</td>\n      <td>3660</td>\n      <td>4081</td>\n      <td>2511</td>\n      <td>2061</td>\n      <td>67</td>\n    </tr>\n    <tr>\n      <th>1</th>\n      <td>2013-01-01</td>\n      <td>150</td>\n      <td>서울역(150)</td>\n      <td>하차</td>\n      <td>385</td>\n      <td>1143</td>\n      <td>1170</td>\n      <td>1435</td>\n      <td>1949</td>\n      <td>2027</td>\n      <td>...</td>\n      <td>3347</td>\n      <td>3182</td>\n      <td>3149</td>\n      <td>3131</td>\n      <td>2473</td>\n      <td>2458</td>\n      <td>1920</td>\n      <td>1293</td>\n      <td>675</td>\n      <td>165</td>\n    </tr>\n    <tr>\n      <th>2</th>\n      <td>2013-01-01</td>\n      <td>151</td>\n      <td>시청(151)</td>\n      <td>승차</td>\n      <td>96</td>\n      <td>109</td>\n      <td>104</td>\n      <td>140</td>\n      <td>189</td>\n      <td>238</td>\n      <td>...</td>\n      <td>915</td>\n      <td>1137</td>\n      <td>1247</td>\n      <td>1288</td>\n      <td>891</td>\n      <td>925</td>\n      <td>891</td>\n      <td>505</td>\n      <td>204</td>\n      <td>14</td>\n    </tr>\n    <tr>\n      <th>3</th>\n      <td>2013-01-01</td>\n      <td>151</td>\n      <td>시청(151)</td>\n      <td>하차</td>\n      <td>34</td>\n      <td>222</td>\n      <td>245</td>\n      <td>422</td>\n      <td>492</td>\n      <td>555</td>\n      <td>...</td>\n      <td>920</td>\n      <td>721</td>\n      <td>483</td>\n      <td>421</td>\n      <td>265</td>\n      <td>250</td>\n      <td>204</td>\n      <td>137</td>\n      <td>68</td>\n      <td>67</td>\n    </tr>\n    <tr>\n      <th>4</th>\n      <td>2013-01-01</td>\n      <td>152</td>\n      <td>종각(152)</td>\n      <td>승차</td>\n      <td>1016</td>\n      <td>651</td>\n      <td>327</td>\n      <td>338</td>\n      <td>349</td>\n      <td>385</td>\n      <td>...</td>\n      <td>1593</td>\n      <td>2051</td>\n      <td>2383</td>\n      <td>2315</td>\n      <td>2157</td>\n      <td>2513</td>\n      <td>2228</td>\n      <td>1953</td>\n      <td>795</td>\n      <td>28</td>\n    </tr>\n  </tbody>\n</table>\n<p>5 rows × 24 columns</p>\n</div>"
     },
     "metadata": {},
     "execution_count": 18
    }
   ],
   "source": [
    "data_2013 = pd.read_excel(r'C:\\Users\\IBK\\Documents\\Seoul_Metro\\2013년 일별 역별 시간대별 승하차인원(1_8호선).xlsx')\n",
    "data_2013.head()"
   ]
  },
  {
   "cell_type": "code",
   "execution_count": 19,
   "metadata": {},
   "outputs": [
    {
     "output_type": "execute_result",
     "data": {
      "text/plain": [
       "           날짜  역번호        역명  구분  05~06  06~07  07~08  08~09  09~10  10~11  \\\n",
       "0  2012-01-01  150  서울역(150)  승차    381    457    572    919   1630   2082   \n",
       "1  2012-01-01  150  서울역(150)  하차    262    972    868   1104   1673   1818   \n",
       "2  2012-01-01  151   시청(151)  승차     91     80    111    157    228    261   \n",
       "3  2012-01-01  151   시청(151)  하차     45    174    213    430    447    651   \n",
       "4  2012-01-01  152   종각(152)  승차   1181    684    252    290    315    424   \n",
       "\n",
       "   ...  15~16  16~17  17~18  18~19  19~20  20~21  21~22  22~23  23~24  24~  \n",
       "0  ...   4209   4775   3840   4184   3985   3371   3475   3662   1518  112  \n",
       "1  ...   3275   3363   3273   3112   2500   2088   1761   1280    699  154  \n",
       "2  ...    877    896    993   1095    776    691    668    399    127    3  \n",
       "3  ...    703    558    424    316    260    181    150     95     94   39  \n",
       "4  ...   1881   2110   2383   2439   1864   1793   1966   1693    673    9  \n",
       "\n",
       "[5 rows x 24 columns]"
      ],
      "text/html": "<div>\n<style scoped>\n    .dataframe tbody tr th:only-of-type {\n        vertical-align: middle;\n    }\n\n    .dataframe tbody tr th {\n        vertical-align: top;\n    }\n\n    .dataframe thead th {\n        text-align: right;\n    }\n</style>\n<table border=\"1\" class=\"dataframe\">\n  <thead>\n    <tr style=\"text-align: right;\">\n      <th></th>\n      <th>날짜</th>\n      <th>역번호</th>\n      <th>역명</th>\n      <th>구분</th>\n      <th>05~06</th>\n      <th>06~07</th>\n      <th>07~08</th>\n      <th>08~09</th>\n      <th>09~10</th>\n      <th>10~11</th>\n      <th>...</th>\n      <th>15~16</th>\n      <th>16~17</th>\n      <th>17~18</th>\n      <th>18~19</th>\n      <th>19~20</th>\n      <th>20~21</th>\n      <th>21~22</th>\n      <th>22~23</th>\n      <th>23~24</th>\n      <th>24~</th>\n    </tr>\n  </thead>\n  <tbody>\n    <tr>\n      <th>0</th>\n      <td>2012-01-01</td>\n      <td>150</td>\n      <td>서울역(150)</td>\n      <td>승차</td>\n      <td>381</td>\n      <td>457</td>\n      <td>572</td>\n      <td>919</td>\n      <td>1630</td>\n      <td>2082</td>\n      <td>...</td>\n      <td>4209</td>\n      <td>4775</td>\n      <td>3840</td>\n      <td>4184</td>\n      <td>3985</td>\n      <td>3371</td>\n      <td>3475</td>\n      <td>3662</td>\n      <td>1518</td>\n      <td>112</td>\n    </tr>\n    <tr>\n      <th>1</th>\n      <td>2012-01-01</td>\n      <td>150</td>\n      <td>서울역(150)</td>\n      <td>하차</td>\n      <td>262</td>\n      <td>972</td>\n      <td>868</td>\n      <td>1104</td>\n      <td>1673</td>\n      <td>1818</td>\n      <td>...</td>\n      <td>3275</td>\n      <td>3363</td>\n      <td>3273</td>\n      <td>3112</td>\n      <td>2500</td>\n      <td>2088</td>\n      <td>1761</td>\n      <td>1280</td>\n      <td>699</td>\n      <td>154</td>\n    </tr>\n    <tr>\n      <th>2</th>\n      <td>2012-01-01</td>\n      <td>151</td>\n      <td>시청(151)</td>\n      <td>승차</td>\n      <td>91</td>\n      <td>80</td>\n      <td>111</td>\n      <td>157</td>\n      <td>228</td>\n      <td>261</td>\n      <td>...</td>\n      <td>877</td>\n      <td>896</td>\n      <td>993</td>\n      <td>1095</td>\n      <td>776</td>\n      <td>691</td>\n      <td>668</td>\n      <td>399</td>\n      <td>127</td>\n      <td>3</td>\n    </tr>\n    <tr>\n      <th>3</th>\n      <td>2012-01-01</td>\n      <td>151</td>\n      <td>시청(151)</td>\n      <td>하차</td>\n      <td>45</td>\n      <td>174</td>\n      <td>213</td>\n      <td>430</td>\n      <td>447</td>\n      <td>651</td>\n      <td>...</td>\n      <td>703</td>\n      <td>558</td>\n      <td>424</td>\n      <td>316</td>\n      <td>260</td>\n      <td>181</td>\n      <td>150</td>\n      <td>95</td>\n      <td>94</td>\n      <td>39</td>\n    </tr>\n    <tr>\n      <th>4</th>\n      <td>2012-01-01</td>\n      <td>152</td>\n      <td>종각(152)</td>\n      <td>승차</td>\n      <td>1181</td>\n      <td>684</td>\n      <td>252</td>\n      <td>290</td>\n      <td>315</td>\n      <td>424</td>\n      <td>...</td>\n      <td>1881</td>\n      <td>2110</td>\n      <td>2383</td>\n      <td>2439</td>\n      <td>1864</td>\n      <td>1793</td>\n      <td>1966</td>\n      <td>1693</td>\n      <td>673</td>\n      <td>9</td>\n    </tr>\n  </tbody>\n</table>\n<p>5 rows × 24 columns</p>\n</div>"
     },
     "metadata": {},
     "execution_count": 19
    }
   ],
   "source": [
    "data_2012 = pd.read_excel(r'C:\\Users\\IBK\\Documents\\Seoul_Metro\\2012년 일별 역별 시간대별 승하차인원(1_8호선).xlsx')\n",
    "data_2012.head()"
   ]
  },
  {
   "cell_type": "code",
   "execution_count": 20,
   "metadata": {},
   "outputs": [
    {
     "output_type": "execute_result",
     "data": {
      "text/plain": [
       "           날짜  역번호        역명  구분  05~06  06~07  07~08  08~09  09~10  10~11  \\\n",
       "0  2011-01-01  150  서울역(150)  승차    459    458    593   1054   1771   2359   \n",
       "1  2011-01-01  150  서울역(150)  하차    283   1354   1581   1786   2408   2430   \n",
       "2  2011-01-01  151   시청(151)  승차     91     85     97    179    273    195   \n",
       "3  2011-01-01  151   시청(151)  하차     37    168    269    351    393    512   \n",
       "4  2011-01-01  152   종각(152)  승차    931    654    287    323    332    438   \n",
       "\n",
       "   ...  15~16  16~17  17~18  18~19  19~20  20~21  21~22  22~23  23~24  24~  \n",
       "0  ...   3895   3698   3822   3685   3257   3167   2811   2615   1048   41  \n",
       "1  ...   2806   2571   2614   1974   1875   1594   1368   1500    697  216  \n",
       "2  ...    990    996   1090   1154    863    891    884    490    168    6  \n",
       "3  ...    981    805    663    441    323    225    218    154     82   49  \n",
       "4  ...   1628   2117   2518   2388   2010   2236   2630   2442   1275   28  \n",
       "\n",
       "[5 rows x 24 columns]"
      ],
      "text/html": "<div>\n<style scoped>\n    .dataframe tbody tr th:only-of-type {\n        vertical-align: middle;\n    }\n\n    .dataframe tbody tr th {\n        vertical-align: top;\n    }\n\n    .dataframe thead th {\n        text-align: right;\n    }\n</style>\n<table border=\"1\" class=\"dataframe\">\n  <thead>\n    <tr style=\"text-align: right;\">\n      <th></th>\n      <th>날짜</th>\n      <th>역번호</th>\n      <th>역명</th>\n      <th>구분</th>\n      <th>05~06</th>\n      <th>06~07</th>\n      <th>07~08</th>\n      <th>08~09</th>\n      <th>09~10</th>\n      <th>10~11</th>\n      <th>...</th>\n      <th>15~16</th>\n      <th>16~17</th>\n      <th>17~18</th>\n      <th>18~19</th>\n      <th>19~20</th>\n      <th>20~21</th>\n      <th>21~22</th>\n      <th>22~23</th>\n      <th>23~24</th>\n      <th>24~</th>\n    </tr>\n  </thead>\n  <tbody>\n    <tr>\n      <th>0</th>\n      <td>2011-01-01</td>\n      <td>150</td>\n      <td>서울역(150)</td>\n      <td>승차</td>\n      <td>459</td>\n      <td>458</td>\n      <td>593</td>\n      <td>1054</td>\n      <td>1771</td>\n      <td>2359</td>\n      <td>...</td>\n      <td>3895</td>\n      <td>3698</td>\n      <td>3822</td>\n      <td>3685</td>\n      <td>3257</td>\n      <td>3167</td>\n      <td>2811</td>\n      <td>2615</td>\n      <td>1048</td>\n      <td>41</td>\n    </tr>\n    <tr>\n      <th>1</th>\n      <td>2011-01-01</td>\n      <td>150</td>\n      <td>서울역(150)</td>\n      <td>하차</td>\n      <td>283</td>\n      <td>1354</td>\n      <td>1581</td>\n      <td>1786</td>\n      <td>2408</td>\n      <td>2430</td>\n      <td>...</td>\n      <td>2806</td>\n      <td>2571</td>\n      <td>2614</td>\n      <td>1974</td>\n      <td>1875</td>\n      <td>1594</td>\n      <td>1368</td>\n      <td>1500</td>\n      <td>697</td>\n      <td>216</td>\n    </tr>\n    <tr>\n      <th>2</th>\n      <td>2011-01-01</td>\n      <td>151</td>\n      <td>시청(151)</td>\n      <td>승차</td>\n      <td>91</td>\n      <td>85</td>\n      <td>97</td>\n      <td>179</td>\n      <td>273</td>\n      <td>195</td>\n      <td>...</td>\n      <td>990</td>\n      <td>996</td>\n      <td>1090</td>\n      <td>1154</td>\n      <td>863</td>\n      <td>891</td>\n      <td>884</td>\n      <td>490</td>\n      <td>168</td>\n      <td>6</td>\n    </tr>\n    <tr>\n      <th>3</th>\n      <td>2011-01-01</td>\n      <td>151</td>\n      <td>시청(151)</td>\n      <td>하차</td>\n      <td>37</td>\n      <td>168</td>\n      <td>269</td>\n      <td>351</td>\n      <td>393</td>\n      <td>512</td>\n      <td>...</td>\n      <td>981</td>\n      <td>805</td>\n      <td>663</td>\n      <td>441</td>\n      <td>323</td>\n      <td>225</td>\n      <td>218</td>\n      <td>154</td>\n      <td>82</td>\n      <td>49</td>\n    </tr>\n    <tr>\n      <th>4</th>\n      <td>2011-01-01</td>\n      <td>152</td>\n      <td>종각(152)</td>\n      <td>승차</td>\n      <td>931</td>\n      <td>654</td>\n      <td>287</td>\n      <td>323</td>\n      <td>332</td>\n      <td>438</td>\n      <td>...</td>\n      <td>1628</td>\n      <td>2117</td>\n      <td>2518</td>\n      <td>2388</td>\n      <td>2010</td>\n      <td>2236</td>\n      <td>2630</td>\n      <td>2442</td>\n      <td>1275</td>\n      <td>28</td>\n    </tr>\n  </tbody>\n</table>\n<p>5 rows × 24 columns</p>\n</div>"
     },
     "metadata": {},
     "execution_count": 20
    }
   ],
   "source": [
    "data_2011 = pd.read_excel(r'C:\\Users\\IBK\\Documents\\Seoul_Metro\\2011년 일별 역별 시간대별 승하차인원(1_8호선).xlsx')\n",
    "data_2011.head()"
   ]
  },
  {
   "cell_type": "code",
   "execution_count": 21,
   "metadata": {},
   "outputs": [
    {
     "output_type": "execute_result",
     "data": {
      "text/plain": [
       "           날짜  역번호        역명  구분  05~06  06~07  07~08  08~09  09~10  10~11  \\\n",
       "0  2010-01-01  150  서울역(150)  승차    390    400    452   1008   1326   1688   \n",
       "1  2010-01-01  150  서울역(150)  하차    187   1169   1171   1715   1984   2396   \n",
       "2  2010-01-01  151   시청(151)  승차    114    106    144    160    218    194   \n",
       "3  2010-01-01  151   시청(151)  하차     40    197    229    359    368    328   \n",
       "4  2010-01-01  152   종각(152)  승차    917    714    364    304    306    365   \n",
       "\n",
       "   ...  15~16  16~17  17~18  18~19  19~20  20~21  21~22  22~23  23~24  24~  \n",
       "0  ...   2365   2794   2961   2463   2831   2070   2224   1716    804   18  \n",
       "1  ...   2260   2015   1924   1898   1360   1147   1171    932    548  216  \n",
       "2  ...    808    822    871    965    853    839    812    594    176    0  \n",
       "3  ...    863    662    641    643    472    318    250    155    121   13  \n",
       "4  ...   1547   1851   2210   2243   2210   2090   2575   2583   1207   22  \n",
       "\n",
       "[5 rows x 24 columns]"
      ],
      "text/html": "<div>\n<style scoped>\n    .dataframe tbody tr th:only-of-type {\n        vertical-align: middle;\n    }\n\n    .dataframe tbody tr th {\n        vertical-align: top;\n    }\n\n    .dataframe thead th {\n        text-align: right;\n    }\n</style>\n<table border=\"1\" class=\"dataframe\">\n  <thead>\n    <tr style=\"text-align: right;\">\n      <th></th>\n      <th>날짜</th>\n      <th>역번호</th>\n      <th>역명</th>\n      <th>구분</th>\n      <th>05~06</th>\n      <th>06~07</th>\n      <th>07~08</th>\n      <th>08~09</th>\n      <th>09~10</th>\n      <th>10~11</th>\n      <th>...</th>\n      <th>15~16</th>\n      <th>16~17</th>\n      <th>17~18</th>\n      <th>18~19</th>\n      <th>19~20</th>\n      <th>20~21</th>\n      <th>21~22</th>\n      <th>22~23</th>\n      <th>23~24</th>\n      <th>24~</th>\n    </tr>\n  </thead>\n  <tbody>\n    <tr>\n      <th>0</th>\n      <td>2010-01-01</td>\n      <td>150</td>\n      <td>서울역(150)</td>\n      <td>승차</td>\n      <td>390</td>\n      <td>400</td>\n      <td>452</td>\n      <td>1008</td>\n      <td>1326</td>\n      <td>1688</td>\n      <td>...</td>\n      <td>2365</td>\n      <td>2794</td>\n      <td>2961</td>\n      <td>2463</td>\n      <td>2831</td>\n      <td>2070</td>\n      <td>2224</td>\n      <td>1716</td>\n      <td>804</td>\n      <td>18</td>\n    </tr>\n    <tr>\n      <th>1</th>\n      <td>2010-01-01</td>\n      <td>150</td>\n      <td>서울역(150)</td>\n      <td>하차</td>\n      <td>187</td>\n      <td>1169</td>\n      <td>1171</td>\n      <td>1715</td>\n      <td>1984</td>\n      <td>2396</td>\n      <td>...</td>\n      <td>2260</td>\n      <td>2015</td>\n      <td>1924</td>\n      <td>1898</td>\n      <td>1360</td>\n      <td>1147</td>\n      <td>1171</td>\n      <td>932</td>\n      <td>548</td>\n      <td>216</td>\n    </tr>\n    <tr>\n      <th>2</th>\n      <td>2010-01-01</td>\n      <td>151</td>\n      <td>시청(151)</td>\n      <td>승차</td>\n      <td>114</td>\n      <td>106</td>\n      <td>144</td>\n      <td>160</td>\n      <td>218</td>\n      <td>194</td>\n      <td>...</td>\n      <td>808</td>\n      <td>822</td>\n      <td>871</td>\n      <td>965</td>\n      <td>853</td>\n      <td>839</td>\n      <td>812</td>\n      <td>594</td>\n      <td>176</td>\n      <td>0</td>\n    </tr>\n    <tr>\n      <th>3</th>\n      <td>2010-01-01</td>\n      <td>151</td>\n      <td>시청(151)</td>\n      <td>하차</td>\n      <td>40</td>\n      <td>197</td>\n      <td>229</td>\n      <td>359</td>\n      <td>368</td>\n      <td>328</td>\n      <td>...</td>\n      <td>863</td>\n      <td>662</td>\n      <td>641</td>\n      <td>643</td>\n      <td>472</td>\n      <td>318</td>\n      <td>250</td>\n      <td>155</td>\n      <td>121</td>\n      <td>13</td>\n    </tr>\n    <tr>\n      <th>4</th>\n      <td>2010-01-01</td>\n      <td>152</td>\n      <td>종각(152)</td>\n      <td>승차</td>\n      <td>917</td>\n      <td>714</td>\n      <td>364</td>\n      <td>304</td>\n      <td>306</td>\n      <td>365</td>\n      <td>...</td>\n      <td>1547</td>\n      <td>1851</td>\n      <td>2210</td>\n      <td>2243</td>\n      <td>2210</td>\n      <td>2090</td>\n      <td>2575</td>\n      <td>2583</td>\n      <td>1207</td>\n      <td>22</td>\n    </tr>\n  </tbody>\n</table>\n<p>5 rows × 24 columns</p>\n</div>"
     },
     "metadata": {},
     "execution_count": 21
    }
   ],
   "source": [
    "data_2010 = pd.read_excel(r'C:\\Users\\IBK\\Documents\\Seoul_Metro\\2010년 일별 역별 시간대별 승하차인원(1_8호선).xlsx')\n",
    "data_2010.head()"
   ]
  },
  {
   "cell_type": "code",
   "execution_count": 22,
   "metadata": {},
   "outputs": [
    {
     "output_type": "execute_result",
     "data": {
      "text/plain": [
       "           날짜  역번호        역명  구분  05~06  06~07  07~08  08~09  09~10  10~11  \\\n",
       "0  2009-01-01  150  서울역(150)  승차    303    362    372    756   1064   1424   \n",
       "1  2009-01-01  150  서울역(150)  하차    150    888    754   1130   1484   1458   \n",
       "2  2009-01-01  151   시청(151)  승차    119    130    110    201    218    229   \n",
       "3  2009-01-01  151   시청(151)  하차     37    181    225    367    364    434   \n",
       "4  2009-01-01  152   종각(152)  승차   1167    874    394    361    322    369   \n",
       "\n",
       "   ...  15~16  16~17  17~18  18~19  19~20  20~21  21~22  22~23  23~24   24~  \n",
       "0  ...   2137   2566   2938   2719   2526   2364   2847   1937    767   152  \n",
       "1  ...   1780   1888   1919   1780   1510   1236   1057    856    449   487  \n",
       "2  ...    887   1153   1009   1089    849    805    797    462    172   594  \n",
       "3  ...    817    787    686    599    393    295    243    126     71    93  \n",
       "4  ...   1512   2053   2192   2325   2136   2359   2613   2176    814  2143  \n",
       "\n",
       "[5 rows x 24 columns]"
      ],
      "text/html": "<div>\n<style scoped>\n    .dataframe tbody tr th:only-of-type {\n        vertical-align: middle;\n    }\n\n    .dataframe tbody tr th {\n        vertical-align: top;\n    }\n\n    .dataframe thead th {\n        text-align: right;\n    }\n</style>\n<table border=\"1\" class=\"dataframe\">\n  <thead>\n    <tr style=\"text-align: right;\">\n      <th></th>\n      <th>날짜</th>\n      <th>역번호</th>\n      <th>역명</th>\n      <th>구분</th>\n      <th>05~06</th>\n      <th>06~07</th>\n      <th>07~08</th>\n      <th>08~09</th>\n      <th>09~10</th>\n      <th>10~11</th>\n      <th>...</th>\n      <th>15~16</th>\n      <th>16~17</th>\n      <th>17~18</th>\n      <th>18~19</th>\n      <th>19~20</th>\n      <th>20~21</th>\n      <th>21~22</th>\n      <th>22~23</th>\n      <th>23~24</th>\n      <th>24~</th>\n    </tr>\n  </thead>\n  <tbody>\n    <tr>\n      <th>0</th>\n      <td>2009-01-01</td>\n      <td>150</td>\n      <td>서울역(150)</td>\n      <td>승차</td>\n      <td>303</td>\n      <td>362</td>\n      <td>372</td>\n      <td>756</td>\n      <td>1064</td>\n      <td>1424</td>\n      <td>...</td>\n      <td>2137</td>\n      <td>2566</td>\n      <td>2938</td>\n      <td>2719</td>\n      <td>2526</td>\n      <td>2364</td>\n      <td>2847</td>\n      <td>1937</td>\n      <td>767</td>\n      <td>152</td>\n    </tr>\n    <tr>\n      <th>1</th>\n      <td>2009-01-01</td>\n      <td>150</td>\n      <td>서울역(150)</td>\n      <td>하차</td>\n      <td>150</td>\n      <td>888</td>\n      <td>754</td>\n      <td>1130</td>\n      <td>1484</td>\n      <td>1458</td>\n      <td>...</td>\n      <td>1780</td>\n      <td>1888</td>\n      <td>1919</td>\n      <td>1780</td>\n      <td>1510</td>\n      <td>1236</td>\n      <td>1057</td>\n      <td>856</td>\n      <td>449</td>\n      <td>487</td>\n    </tr>\n    <tr>\n      <th>2</th>\n      <td>2009-01-01</td>\n      <td>151</td>\n      <td>시청(151)</td>\n      <td>승차</td>\n      <td>119</td>\n      <td>130</td>\n      <td>110</td>\n      <td>201</td>\n      <td>218</td>\n      <td>229</td>\n      <td>...</td>\n      <td>887</td>\n      <td>1153</td>\n      <td>1009</td>\n      <td>1089</td>\n      <td>849</td>\n      <td>805</td>\n      <td>797</td>\n      <td>462</td>\n      <td>172</td>\n      <td>594</td>\n    </tr>\n    <tr>\n      <th>3</th>\n      <td>2009-01-01</td>\n      <td>151</td>\n      <td>시청(151)</td>\n      <td>하차</td>\n      <td>37</td>\n      <td>181</td>\n      <td>225</td>\n      <td>367</td>\n      <td>364</td>\n      <td>434</td>\n      <td>...</td>\n      <td>817</td>\n      <td>787</td>\n      <td>686</td>\n      <td>599</td>\n      <td>393</td>\n      <td>295</td>\n      <td>243</td>\n      <td>126</td>\n      <td>71</td>\n      <td>93</td>\n    </tr>\n    <tr>\n      <th>4</th>\n      <td>2009-01-01</td>\n      <td>152</td>\n      <td>종각(152)</td>\n      <td>승차</td>\n      <td>1167</td>\n      <td>874</td>\n      <td>394</td>\n      <td>361</td>\n      <td>322</td>\n      <td>369</td>\n      <td>...</td>\n      <td>1512</td>\n      <td>2053</td>\n      <td>2192</td>\n      <td>2325</td>\n      <td>2136</td>\n      <td>2359</td>\n      <td>2613</td>\n      <td>2176</td>\n      <td>814</td>\n      <td>2143</td>\n    </tr>\n  </tbody>\n</table>\n<p>5 rows × 24 columns</p>\n</div>"
     },
     "metadata": {},
     "execution_count": 22
    }
   ],
   "source": [
    "data_2009 = pd.read_excel(r'C:\\Users\\IBK\\Documents\\Seoul_Metro\\2009년 일별 역별 시간대별 승하차인원(1_8호선).xlsx')\n",
    "data_2009.head()"
   ]
  },
  {
   "cell_type": "code",
   "execution_count": 23,
   "metadata": {},
   "outputs": [
    {
     "output_type": "execute_result",
     "data": {
      "text/plain": [
       "           날짜  역번호        역명  구분  05~06  06~07  07~08  08~09  09~10  10~11  \\\n",
       "0  2008-01-01  150  서울역(150)  승차    379    287    371    876    965   1389   \n",
       "1  2008-01-01  150  서울역(150)  하차    145    707    689   1037   1170   1376   \n",
       "2  2008-01-01  151   시청(151)  승차    131    131    101    152    191    202   \n",
       "3  2008-01-01  151   시청(151)  하차     35    158    203    393    375    460   \n",
       "4  2008-01-01  152   종각(152)  승차   1287    867    400    330    345    338   \n",
       "\n",
       "   ...  15~16  16~17  17~18  18~19  19~20  20~21  21~22  22~23  23~24   24~  \n",
       "0  ...   2520   3078   3495   3055   2952   2726   3307   2584   1059   264  \n",
       "1  ...   1955   2304   2203   2128   1747   1593   1078    744    406   558  \n",
       "2  ...    892    900   1154   1706   1444   1267    928    531    233   974  \n",
       "3  ...   1157   1153   1303   1190    830    454    284    141    107   185  \n",
       "4  ...   1867   2269   2777   2834   2646   2784   2920   2290    802  1559  \n",
       "\n",
       "[5 rows x 24 columns]"
      ],
      "text/html": "<div>\n<style scoped>\n    .dataframe tbody tr th:only-of-type {\n        vertical-align: middle;\n    }\n\n    .dataframe tbody tr th {\n        vertical-align: top;\n    }\n\n    .dataframe thead th {\n        text-align: right;\n    }\n</style>\n<table border=\"1\" class=\"dataframe\">\n  <thead>\n    <tr style=\"text-align: right;\">\n      <th></th>\n      <th>날짜</th>\n      <th>역번호</th>\n      <th>역명</th>\n      <th>구분</th>\n      <th>05~06</th>\n      <th>06~07</th>\n      <th>07~08</th>\n      <th>08~09</th>\n      <th>09~10</th>\n      <th>10~11</th>\n      <th>...</th>\n      <th>15~16</th>\n      <th>16~17</th>\n      <th>17~18</th>\n      <th>18~19</th>\n      <th>19~20</th>\n      <th>20~21</th>\n      <th>21~22</th>\n      <th>22~23</th>\n      <th>23~24</th>\n      <th>24~</th>\n    </tr>\n  </thead>\n  <tbody>\n    <tr>\n      <th>0</th>\n      <td>2008-01-01</td>\n      <td>150</td>\n      <td>서울역(150)</td>\n      <td>승차</td>\n      <td>379</td>\n      <td>287</td>\n      <td>371</td>\n      <td>876</td>\n      <td>965</td>\n      <td>1389</td>\n      <td>...</td>\n      <td>2520</td>\n      <td>3078</td>\n      <td>3495</td>\n      <td>3055</td>\n      <td>2952</td>\n      <td>2726</td>\n      <td>3307</td>\n      <td>2584</td>\n      <td>1059</td>\n      <td>264</td>\n    </tr>\n    <tr>\n      <th>1</th>\n      <td>2008-01-01</td>\n      <td>150</td>\n      <td>서울역(150)</td>\n      <td>하차</td>\n      <td>145</td>\n      <td>707</td>\n      <td>689</td>\n      <td>1037</td>\n      <td>1170</td>\n      <td>1376</td>\n      <td>...</td>\n      <td>1955</td>\n      <td>2304</td>\n      <td>2203</td>\n      <td>2128</td>\n      <td>1747</td>\n      <td>1593</td>\n      <td>1078</td>\n      <td>744</td>\n      <td>406</td>\n      <td>558</td>\n    </tr>\n    <tr>\n      <th>2</th>\n      <td>2008-01-01</td>\n      <td>151</td>\n      <td>시청(151)</td>\n      <td>승차</td>\n      <td>131</td>\n      <td>131</td>\n      <td>101</td>\n      <td>152</td>\n      <td>191</td>\n      <td>202</td>\n      <td>...</td>\n      <td>892</td>\n      <td>900</td>\n      <td>1154</td>\n      <td>1706</td>\n      <td>1444</td>\n      <td>1267</td>\n      <td>928</td>\n      <td>531</td>\n      <td>233</td>\n      <td>974</td>\n    </tr>\n    <tr>\n      <th>3</th>\n      <td>2008-01-01</td>\n      <td>151</td>\n      <td>시청(151)</td>\n      <td>하차</td>\n      <td>35</td>\n      <td>158</td>\n      <td>203</td>\n      <td>393</td>\n      <td>375</td>\n      <td>460</td>\n      <td>...</td>\n      <td>1157</td>\n      <td>1153</td>\n      <td>1303</td>\n      <td>1190</td>\n      <td>830</td>\n      <td>454</td>\n      <td>284</td>\n      <td>141</td>\n      <td>107</td>\n      <td>185</td>\n    </tr>\n    <tr>\n      <th>4</th>\n      <td>2008-01-01</td>\n      <td>152</td>\n      <td>종각(152)</td>\n      <td>승차</td>\n      <td>1287</td>\n      <td>867</td>\n      <td>400</td>\n      <td>330</td>\n      <td>345</td>\n      <td>338</td>\n      <td>...</td>\n      <td>1867</td>\n      <td>2269</td>\n      <td>2777</td>\n      <td>2834</td>\n      <td>2646</td>\n      <td>2784</td>\n      <td>2920</td>\n      <td>2290</td>\n      <td>802</td>\n      <td>1559</td>\n    </tr>\n  </tbody>\n</table>\n<p>5 rows × 24 columns</p>\n</div>"
     },
     "metadata": {},
     "execution_count": 23
    }
   ],
   "source": [
    "data_2008 = pd.read_excel(r'C:\\Users\\IBK\\Documents\\Seoul_Metro\\2008년 일별 역별 시간대별 승하차인원(1_8호선).xlsx')\n",
    "data_2008.head()"
   ]
  },
  {
   "source": [
    "## Unify the columns"
   ],
   "cell_type": "markdown",
   "metadata": {}
  },
  {
   "cell_type": "code",
   "execution_count": 24,
   "metadata": {},
   "outputs": [],
   "source": [
    "data_list = [data_2008,data_2009,data_2010,data_2011,data_2012,data_2013,data_2014,data_2015,data_2016,data_2017_1,data_2017_2,data_2018,data_2019,data_2020]"
   ]
  },
  {
   "source": [
    "### Number of columns"
   ],
   "cell_type": "markdown",
   "metadata": {}
  },
  {
   "cell_type": "code",
   "execution_count": 25,
   "metadata": {},
   "outputs": [],
   "source": [
    "data_2020.drop(col_to_del_2020,axis=1,inplace=True)\n",
    "data_2019.drop(col_to_del_2019,axis=1,inplace=True)\n",
    "data_2018.drop(col_to_del_2018,axis=1,inplace=True)\n",
    "data_2017_2.drop(col_to_del_2017_2,axis=1,inplace=True)\n",
    "data_2017_1.drop(col_to_del_2017_1,axis=1,inplace=True)\n",
    "data_2016.drop(col_to_del_2016,axis=1,inplace=True)"
   ]
  },
  {
   "source": [
    "### Name of columns"
   ],
   "cell_type": "markdown",
   "metadata": {}
  },
  {
   "cell_type": "code",
   "execution_count": 26,
   "metadata": {},
   "outputs": [],
   "source": [
    "for data in data_list:\n",
    "    data.columns = data_2008.columns"
   ]
  },
  {
   "source": [
    "## Concat data"
   ],
   "cell_type": "markdown",
   "metadata": {}
  },
  {
   "cell_type": "code",
   "execution_count": 27,
   "metadata": {},
   "outputs": [
    {
     "output_type": "execute_result",
     "data": {
      "text/plain": [
       "(2559276, 24)"
      ]
     },
     "metadata": {},
     "execution_count": 27
    }
   ],
   "source": [
    "data_total = pd.concat(data_list, axis=0, ignore_index=True)\n",
    "data_total.shape"
   ]
  },
  {
   "cell_type": "code",
   "execution_count": 29,
   "metadata": {},
   "outputs": [],
   "source": [
    "import pickle\n",
    "with open('data_total.pkl', 'wb') as file:\n",
    "    pickle.dump(data_total, file)"
   ]
  },
  {
   "cell_type": "code",
   "execution_count": 35,
   "metadata": {},
   "outputs": [],
   "source": [
    "with open(r'C:\\Users\\IBK\\Documents\\Seoul_Metro\\data_total.pkl', 'rb') as file:\n",
    "    k = pickle.load(file)"
   ]
  },
  {
   "cell_type": "code",
   "execution_count": null,
   "metadata": {},
   "outputs": [],
   "source": [
    "k.shape"
   ]
  },
  {
   "cell_type": "code",
   "execution_count": 40,
   "metadata": {},
   "outputs": [
    {
     "output_type": "execute_result",
     "data": {
      "text/plain": [
       "           날짜  역번호        역명  구분  05~06  06~07  07~08  08~09  09~10  10~11  \\\n",
       "0  2008-01-01  150  서울역(150)  승차    379    287    371    876    965   1389   \n",
       "1  2008-01-01  150  서울역(150)  하차    145    707    689   1037   1170   1376   \n",
       "2  2008-01-01  151   시청(151)  승차    131    131    101    152    191    202   \n",
       "3  2008-01-01  151   시청(151)  하차     35    158    203    393    375    460   \n",
       "4  2008-01-01  152   종각(152)  승차   1287    867    400    330    345    338   \n",
       "\n",
       "   ...  15~16  16~17  17~18  18~19  19~20  20~21  21~22  22~23  23~24   24~  \n",
       "0  ...   2520   3078   3495   3055   2952   2726   3307   2584   1059   264  \n",
       "1  ...   1955   2304   2203   2128   1747   1593   1078    744    406   558  \n",
       "2  ...    892    900   1154   1706   1444   1267    928    531    233   974  \n",
       "3  ...   1157   1153   1303   1190    830    454    284    141    107   185  \n",
       "4  ...   1867   2269   2777   2834   2646   2784   2920   2290    802  1559  \n",
       "\n",
       "[5 rows x 24 columns]"
      ],
      "text/html": "<div>\n<style scoped>\n    .dataframe tbody tr th:only-of-type {\n        vertical-align: middle;\n    }\n\n    .dataframe tbody tr th {\n        vertical-align: top;\n    }\n\n    .dataframe thead th {\n        text-align: right;\n    }\n</style>\n<table border=\"1\" class=\"dataframe\">\n  <thead>\n    <tr style=\"text-align: right;\">\n      <th></th>\n      <th>날짜</th>\n      <th>역번호</th>\n      <th>역명</th>\n      <th>구분</th>\n      <th>05~06</th>\n      <th>06~07</th>\n      <th>07~08</th>\n      <th>08~09</th>\n      <th>09~10</th>\n      <th>10~11</th>\n      <th>...</th>\n      <th>15~16</th>\n      <th>16~17</th>\n      <th>17~18</th>\n      <th>18~19</th>\n      <th>19~20</th>\n      <th>20~21</th>\n      <th>21~22</th>\n      <th>22~23</th>\n      <th>23~24</th>\n      <th>24~</th>\n    </tr>\n  </thead>\n  <tbody>\n    <tr>\n      <th>0</th>\n      <td>2008-01-01</td>\n      <td>150</td>\n      <td>서울역(150)</td>\n      <td>승차</td>\n      <td>379</td>\n      <td>287</td>\n      <td>371</td>\n      <td>876</td>\n      <td>965</td>\n      <td>1389</td>\n      <td>...</td>\n      <td>2520</td>\n      <td>3078</td>\n      <td>3495</td>\n      <td>3055</td>\n      <td>2952</td>\n      <td>2726</td>\n      <td>3307</td>\n      <td>2584</td>\n      <td>1059</td>\n      <td>264</td>\n    </tr>\n    <tr>\n      <th>1</th>\n      <td>2008-01-01</td>\n      <td>150</td>\n      <td>서울역(150)</td>\n      <td>하차</td>\n      <td>145</td>\n      <td>707</td>\n      <td>689</td>\n      <td>1037</td>\n      <td>1170</td>\n      <td>1376</td>\n      <td>...</td>\n      <td>1955</td>\n      <td>2304</td>\n      <td>2203</td>\n      <td>2128</td>\n      <td>1747</td>\n      <td>1593</td>\n      <td>1078</td>\n      <td>744</td>\n      <td>406</td>\n      <td>558</td>\n    </tr>\n    <tr>\n      <th>2</th>\n      <td>2008-01-01</td>\n      <td>151</td>\n      <td>시청(151)</td>\n      <td>승차</td>\n      <td>131</td>\n      <td>131</td>\n      <td>101</td>\n      <td>152</td>\n      <td>191</td>\n      <td>202</td>\n      <td>...</td>\n      <td>892</td>\n      <td>900</td>\n      <td>1154</td>\n      <td>1706</td>\n      <td>1444</td>\n      <td>1267</td>\n      <td>928</td>\n      <td>531</td>\n      <td>233</td>\n      <td>974</td>\n    </tr>\n    <tr>\n      <th>3</th>\n      <td>2008-01-01</td>\n      <td>151</td>\n      <td>시청(151)</td>\n      <td>하차</td>\n      <td>35</td>\n      <td>158</td>\n      <td>203</td>\n      <td>393</td>\n      <td>375</td>\n      <td>460</td>\n      <td>...</td>\n      <td>1157</td>\n      <td>1153</td>\n      <td>1303</td>\n      <td>1190</td>\n      <td>830</td>\n      <td>454</td>\n      <td>284</td>\n      <td>141</td>\n      <td>107</td>\n      <td>185</td>\n    </tr>\n    <tr>\n      <th>4</th>\n      <td>2008-01-01</td>\n      <td>152</td>\n      <td>종각(152)</td>\n      <td>승차</td>\n      <td>1287</td>\n      <td>867</td>\n      <td>400</td>\n      <td>330</td>\n      <td>345</td>\n      <td>338</td>\n      <td>...</td>\n      <td>1867</td>\n      <td>2269</td>\n      <td>2777</td>\n      <td>2834</td>\n      <td>2646</td>\n      <td>2784</td>\n      <td>2920</td>\n      <td>2290</td>\n      <td>802</td>\n      <td>1559</td>\n    </tr>\n  </tbody>\n</table>\n<p>5 rows × 24 columns</p>\n</div>"
     },
     "metadata": {},
     "execution_count": 40
    }
   ],
   "source": [
    "k.head()"
   ]
  },
  {
   "cell_type": "code",
   "execution_count": 37,
   "metadata": {},
   "outputs": [
    {
     "output_type": "execute_result",
     "data": {
      "text/plain": [
       "                 날짜   역번호  역명  구분  05~06  06~07  07~08  08~09  09~10  10~11  \\\n",
       "2559271  2020-11-30  2825  신흥  하차     32    113     97    243    186    155   \n",
       "2559272  2020-11-30  2826  수진  승차    153    235    624    811    376    255   \n",
       "2559273  2020-11-30  2826  수진  하차     20     84    127    291    196    185   \n",
       "2559274  2020-11-30  2827  모란  승차     61    120    342    440    232    189   \n",
       "2559275  2020-11-30  2827  모란  하차     23     94    146    275    143    154   \n",
       "\n",
       "         ...  15~16  16~17  17~18  18~19  19~20  20~21  21~22  22~23  23~24  \\\n",
       "2559271  ...    273    297    375    594    440    250    270    139     79   \n",
       "2559272  ...    222    305    252    247    124     98     86     48     26   \n",
       "2559273  ...    260    289    347    571    494    267    242    160     90   \n",
       "2559274  ...    262    284    281    330    186    121    118     56     12   \n",
       "2559275  ...    168    173    201    258    192     78     87     70     24   \n",
       "\n",
       "         24~  \n",
       "2559271    0  \n",
       "2559272    0  \n",
       "2559273    0  \n",
       "2559274    0  \n",
       "2559275    3  \n",
       "\n",
       "[5 rows x 24 columns]"
      ],
      "text/html": "<div>\n<style scoped>\n    .dataframe tbody tr th:only-of-type {\n        vertical-align: middle;\n    }\n\n    .dataframe tbody tr th {\n        vertical-align: top;\n    }\n\n    .dataframe thead th {\n        text-align: right;\n    }\n</style>\n<table border=\"1\" class=\"dataframe\">\n  <thead>\n    <tr style=\"text-align: right;\">\n      <th></th>\n      <th>날짜</th>\n      <th>역번호</th>\n      <th>역명</th>\n      <th>구분</th>\n      <th>05~06</th>\n      <th>06~07</th>\n      <th>07~08</th>\n      <th>08~09</th>\n      <th>09~10</th>\n      <th>10~11</th>\n      <th>...</th>\n      <th>15~16</th>\n      <th>16~17</th>\n      <th>17~18</th>\n      <th>18~19</th>\n      <th>19~20</th>\n      <th>20~21</th>\n      <th>21~22</th>\n      <th>22~23</th>\n      <th>23~24</th>\n      <th>24~</th>\n    </tr>\n  </thead>\n  <tbody>\n    <tr>\n      <th>2559271</th>\n      <td>2020-11-30</td>\n      <td>2825</td>\n      <td>신흥</td>\n      <td>하차</td>\n      <td>32</td>\n      <td>113</td>\n      <td>97</td>\n      <td>243</td>\n      <td>186</td>\n      <td>155</td>\n      <td>...</td>\n      <td>273</td>\n      <td>297</td>\n      <td>375</td>\n      <td>594</td>\n      <td>440</td>\n      <td>250</td>\n      <td>270</td>\n      <td>139</td>\n      <td>79</td>\n      <td>0</td>\n    </tr>\n    <tr>\n      <th>2559272</th>\n      <td>2020-11-30</td>\n      <td>2826</td>\n      <td>수진</td>\n      <td>승차</td>\n      <td>153</td>\n      <td>235</td>\n      <td>624</td>\n      <td>811</td>\n      <td>376</td>\n      <td>255</td>\n      <td>...</td>\n      <td>222</td>\n      <td>305</td>\n      <td>252</td>\n      <td>247</td>\n      <td>124</td>\n      <td>98</td>\n      <td>86</td>\n      <td>48</td>\n      <td>26</td>\n      <td>0</td>\n    </tr>\n    <tr>\n      <th>2559273</th>\n      <td>2020-11-30</td>\n      <td>2826</td>\n      <td>수진</td>\n      <td>하차</td>\n      <td>20</td>\n      <td>84</td>\n      <td>127</td>\n      <td>291</td>\n      <td>196</td>\n      <td>185</td>\n      <td>...</td>\n      <td>260</td>\n      <td>289</td>\n      <td>347</td>\n      <td>571</td>\n      <td>494</td>\n      <td>267</td>\n      <td>242</td>\n      <td>160</td>\n      <td>90</td>\n      <td>0</td>\n    </tr>\n    <tr>\n      <th>2559274</th>\n      <td>2020-11-30</td>\n      <td>2827</td>\n      <td>모란</td>\n      <td>승차</td>\n      <td>61</td>\n      <td>120</td>\n      <td>342</td>\n      <td>440</td>\n      <td>232</td>\n      <td>189</td>\n      <td>...</td>\n      <td>262</td>\n      <td>284</td>\n      <td>281</td>\n      <td>330</td>\n      <td>186</td>\n      <td>121</td>\n      <td>118</td>\n      <td>56</td>\n      <td>12</td>\n      <td>0</td>\n    </tr>\n    <tr>\n      <th>2559275</th>\n      <td>2020-11-30</td>\n      <td>2827</td>\n      <td>모란</td>\n      <td>하차</td>\n      <td>23</td>\n      <td>94</td>\n      <td>146</td>\n      <td>275</td>\n      <td>143</td>\n      <td>154</td>\n      <td>...</td>\n      <td>168</td>\n      <td>173</td>\n      <td>201</td>\n      <td>258</td>\n      <td>192</td>\n      <td>78</td>\n      <td>87</td>\n      <td>70</td>\n      <td>24</td>\n      <td>3</td>\n    </tr>\n  </tbody>\n</table>\n<p>5 rows × 24 columns</p>\n</div>"
     },
     "metadata": {},
     "execution_count": 37
    }
   ],
   "source": [
    "k.tail()"
   ]
  }
 ]
}