{
 "cells": [
  {
   "cell_type": "code",
   "execution_count": 1,
   "metadata": {},
   "outputs": [],
   "source": [
    "import pickle\n",
    "import networkx as nx\n",
    "import numpy as np\n",
    "import matplotlib.pyplot as plt\n",
    "import pandas as pd\n",
    "%matplotlib inline"
   ]
  },
  {
   "cell_type": "markdown",
   "metadata": {},
   "source": [
    "## Load data"
   ]
  },
  {
   "cell_type": "code",
   "execution_count": 2,
   "metadata": {},
   "outputs": [],
   "source": [
    "with open('../Subway_base_network/graph_stName_as_node.pkl', 'rb') as f:\n",
    "    G_stName = pickle.load(f)\n",
    "with open('../Subway_base_network/graph_stNo_as_node.pkl', 'rb') as f:\n",
    "    G_stNo = pickle.load(f)\n",
    "with open('../Subway_base_network/graph_stNo_as_node_invWeight.pkl', 'rb') as f:\n",
    "    G_stNo_invWeight = pickle.load(f)\n"
   ]
  },
  {
   "cell_type": "markdown",
   "metadata": {},
   "source": [
    "## About graphs\n",
    "> G_stName\n",
    "- Node is set to station name.\n",
    "- Preserves the original subway network structure\n",
    "- 역과 역 간 연결 상태를 보여줌. 즉, 두 역 사이를 지나는 노선이 여러 개더라도 하나의 edge로 인식 (nxgraph의 설정 상 어쩔 수 없음)\n",
    "  \n",
    "  \n",
    "> G_stNo\n",
    "- Node is set to station number.\n",
    "- Convenient to calculate min distance within nodes. \n",
    "- 하나의 역이더라도, n개의 노선이 지난다면 n개의 노드로 구별됨. 동일 역 다른 노선(e.g. 4호선 사당역과 2호선 사당역)의 노드 사이에도 edge가 부여되며, 이 edge의 weight는 '환승 시간'에 해당됨."
   ]
  },
  {
   "cell_type": "markdown",
   "metadata": {},
   "source": [
    "## Degree analysis"
   ]
  },
  {
   "cell_type": "code",
   "execution_count": 3,
   "metadata": {},
   "outputs": [
    {
     "name": "stdout",
     "output_type": "stream",
     "text": [
      "Total nodes: 598\n"
     ]
    }
   ],
   "source": [
    "# number of nodes\n",
    "\n",
    "N_stName = len(list(G_stName.nodes))\n",
    "print('Total nodes:', N_stName)"
   ]
  },
  {
   "cell_type": "code",
   "execution_count": 4,
   "metadata": {},
   "outputs": [
    {
     "name": "stdout",
     "output_type": "stream",
     "text": [
      "Mean degree: 2.274247491638796\n"
     ]
    },
    {
     "data": {
      "text/plain": [
       "Text(0.5, 1.0, 'Degree distribution of the subway network of Seoul')"
      ]
     },
     "execution_count": 4,
     "metadata": {},
     "output_type": "execute_result"
    },
    {
     "data": {
      "image/png": "[encoded data removed]",
      "text/plain": [
       "<Figure size 432x288 with 1 Axes>"
      ]
     },
     "metadata": {
      "needs_background": "light"
     },
     "output_type": "display_data"
    }
   ],
   "source": [
    "# degree\n",
    "\n",
    "# given graph is directional graph; two edges with different directions exist between every two nodes\n",
    "degrees = dict(G_stName.degree)\n",
    "degrees_values = degrees.values()\n",
    "degrees_values_undirected = [x//2 for x in degrees_values]\n",
    "\n",
    "# average\n",
    "MEAN_DEGREE = sum(degrees_values_undirected) / len(degrees_values_undirected)\n",
    "print('Mean degree:', MEAN_DEGREE)\n",
    "\n",
    "# plot\n",
    "series_to_plot = pd.Series(degrees_values_undirected).value_counts().sort_index()\n",
    "ax = series_to_plot.plot.bar(rot=0)\n",
    "ax.set_title('Degree distribution of the subway network of Seoul')\n",
    "\n",
    "# TMI\n",
    "# Degree 8: 공덕역 (degree centrality)\n",
    "# Degree 7: 왕십리역"
   ]
  },
  {
   "cell_type": "markdown",
   "metadata": {},
   "source": [
    "## Calculate network distance & physical time"
   ]
  },
  {
   "cell_type": "code",
   "execution_count": 5,
   "metadata": {},
   "outputs": [],
   "source": [
    "from networkx.algorithms.shortest_paths.generic import shortest_path_length\n",
    "\n",
    "# shortest path (network distance)\n",
    "network_distances = dict(shortest_path_length(G_stNo)) # usage: network_distances[source_node][target_node]\n",
    "\n",
    "# shortest path (physical time)\n",
    "physical_times = dict(shortest_path_length(G_stNo, weight='weight')) \n",
    "\n",
    "# number of nodes\n",
    "N_stNo = len(list(G_stNo.nodes))"
   ]
  },
  {
   "cell_type": "markdown",
   "metadata": {},
   "source": [
    "## Centrality analysis"
   ]
  },
  {
   "cell_type": "code",
   "execution_count": 6,
   "metadata": {},
   "outputs": [],
   "source": [
    "# custom function\n",
    "\n",
    "def find_max_key(dict):\n",
    "    '''find 'all' keys whose value is max.'''\n",
    "\n",
    "    value = max(dict.values())\n",
    "    keys = []\n",
    "    for key in dict:\n",
    "        if dict[key] == value:\n",
    "            keys.append(key)\n",
    "    return keys\n",
    "\n",
    "def find_min_key(dict):\n",
    "    '''find 'all' keys whose value is min.'''\n",
    "\n",
    "    value = min(dict.values())\n",
    "    keys = []\n",
    "    for key in dict:\n",
    "        if dict[key] == value:\n",
    "            keys.append(key)\n",
    "    return keys"
   ]
  },
  {
   "cell_type": "markdown",
   "metadata": {},
   "source": [
    "### Closeness centrality\n",
    "- Closeness centrality\n",
    "- Closeness centrality based on eccentricity\n",
    "- Radius and diameter"
   ]
  },
  {
   "cell_type": "code",
   "execution_count": 7,
   "metadata": {},
   "outputs": [
    {
     "name": "stdout",
     "output_type": "stream",
     "text": [
      "By network distance: ['K111']\n",
      "By physical time: ['426']\n"
     ]
    }
   ],
   "source": [
    "# closeness centrality\n",
    "def get_closeness_centralities(distance_dict):\n",
    "    closeness_centralities = {}\n",
    "\n",
    "    for x in list(G_stNo.nodes):\n",
    "        value = (N_stNo - 1) / sum(distance_dict[x].values()) # formula of closeness centrality\n",
    "        closeness_centralities[x] = value\n",
    "\n",
    "    return closeness_centralities   \n",
    "\n",
    "\n",
    "closeness_centralities_ntwk = get_closeness_centralities(network_distances)\n",
    "closeness_centralities_phy = get_closeness_centralities(physical_times)\n",
    "\n",
    "print('By network distance:', find_max_key(closeness_centralities_ntwk))\n",
    "print('By physical time:', find_max_key(closeness_centralities_phy))\n",
    "# 'K111'은 이촌역(경의중앙선) \n",
    "# '426'은 서울역(4호선)"
   ]
  },
  {
   "cell_type": "code",
   "execution_count": 8,
   "metadata": {},
   "outputs": [
    {
     "name": "stdout",
     "output_type": "stream",
     "text": [
      "By network distance: ['136', '431', '432', '434']\n",
      "By physical time: ['432']\n"
     ]
    }
   ],
   "source": [
    "# closeness centrality based on eccentricity (radius and diameter)\n",
    "\n",
    "# eccentricity of node i := greatest distance between i and another nodes    \n",
    "def get_eccentricities(distance_dict):\n",
    "\n",
    "    # eccentricities by each node\n",
    "    eccentricities = {node:0 for node in list(G_stNo.nodes)} \n",
    "\n",
    "    for x in list(G_stNo.nodes):\n",
    "        max_dist = max(distance_dict[x].values()) # maxiumum distance when source node is x\n",
    "        eccentricities[x] = max_dist\n",
    "\n",
    "    return eccentricities\n",
    "\n",
    "\n",
    "eccentricities_ntwk = get_eccentricities(network_distances)\n",
    "eccentricities_phy = get_eccentricities(physical_times)\n",
    "\n",
    "print('By network distance:', find_min_key(eccentricities_ntwk))\n",
    "print('By physical time:', find_min_key(eccentricities_phy))\n",
    "\n",
    "# '136'은 노량진(1호선), '431'은 동작(4호선), '432'는 총신대입구(이수)(4호선), '434'는 남태령(4호선)\n",
    "# '432'는 총신대입구(이수)(4호선)"
   ]
  },
  {
   "cell_type": "code",
   "execution_count": 9,
   "metadata": {},
   "outputs": [
    {
     "name": "stdout",
     "output_type": "stream",
     "text": [
      "Radius by network distance: 39\n",
      "Diameter by network distance: 75\n",
      "Radius by physical time: 121\n",
      "Diameter by physical time: 242\n"
     ]
    }
   ],
   "source": [
    "# radius and diameter\n",
    "\n",
    "# radius := min(eccentricity)\n",
    "# diameter := max(eccentricity)\n",
    "print('Radius by network distance:', min(eccentricities_ntwk.values()))\n",
    "print('Diameter by network distance:',max(eccentricities_ntwk.values()))\n",
    "print('Radius by physical time:',min(eccentricities_phy.values()))\n",
    "print('Diameter by physical time:',max(eccentricities_phy.values()))"
   ]
  },
  {
   "cell_type": "markdown",
   "metadata": {},
   "source": [
    "### Betweenness centrality"
   ]
  },
  {
   "cell_type": "code",
   "execution_count": 10,
   "metadata": {},
   "outputs": [
    {
     "name": "stdout",
     "output_type": "stream",
     "text": [
      "By network distance: ['K116']\n",
      "By physical time: ['141']\n"
     ]
    }
   ],
   "source": [
    "# betweenness centrality\n",
    "from networkx.algorithms.centrality import betweenness_centrality\n",
    "\n",
    "betweenness_centrality_ntwk = betweenness_centrality(G_stNo)\n",
    "betweenness_centrality_phy = betweenness_centrality(G_stNo, weight = 'weight')\n",
    "\n",
    "print('By network distance:',find_max_key(betweenness_centrality_ntwk))\n",
    "print('By physical time:',find_max_key(betweenness_centrality_phy))\n",
    "# 'K116'은 왕십리(경의중앙선)\n",
    "# '141'은 구로(1호선)"
   ]
  },
  {
   "cell_type": "markdown",
   "metadata": {},
   "source": [
    "### Eigenvector centrality\n",
    "** 그래프의 weight로 physical time 대신 physical time의 inverse 활용 **\n",
    "- Eigenvector centrality\n",
    "- Katz centrality\n",
    "- PageRank"
   ]
  },
  {
   "cell_type": "code",
   "execution_count": 11,
   "metadata": {},
   "outputs": [
    {
     "name": "stdout",
     "output_type": "stream",
     "text": [
      "By network distance: ['A02']\n",
      "By physical time: ['U121']\n"
     ]
    }
   ],
   "source": [
    "# eigenvector centrality\n",
    "from networkx.algorithms.centrality import eigenvector_centrality\n",
    "\n",
    "eigenvector_centrality_ntwk = eigenvector_centrality(G_stNo_invWeight, max_iter=1000)\n",
    "eigenvector_centrality_phy = eigenvector_centrality(G_stNo_invWeight, weight = 'weight', max_iter=1000)\n",
    "\n",
    "print('By network distance:',find_max_key(eigenvector_centrality_ntwk))\n",
    "print('By physical time:',find_max_key(eigenvector_centrality_phy))\n",
    "# 'A02'은 공덕(공항철도)\n",
    "# 'U121'는 효자(의정부선)"
   ]
  },
  {
   "cell_type": "code",
   "execution_count": 12,
   "metadata": {},
   "outputs": [
    {
     "name": "stdout",
     "output_type": "stream",
     "text": [
      "By network distance: ['A02']\n",
      "By physical time: ['208']\n"
     ]
    }
   ],
   "source": [
    "# Katz centrality\n",
    "from networkx.algorithms.centrality import katz_centrality\n",
    "\n",
    "katz_centrality_ntwk = katz_centrality(G_stNo_invWeight)\n",
    "katz_centrality_phy = katz_centrality(G_stNo_invWeight, weight='weight', max_iter=100000)\n",
    "\n",
    "print('By network distance:',find_max_key(katz_centrality_ntwk))\n",
    "print('By physical time:',find_max_key(katz_centrality_phy))\n",
    "\n",
    "# 'A02'은 공덕(공항철도)\n",
    "# '208'은 왕십리(2호선)"
   ]
  },
  {
   "cell_type": "code",
   "execution_count": 43,
   "metadata": {},
   "outputs": [
    {
     "name": "stdout",
     "output_type": "stream",
     "text": [
      "By network distance: ['540']\n",
      "By physical time: ['618']\n"
     ]
    }
   ],
   "source": [
    "# PageRank\n",
    "from networkx.algorithms.link_analysis.pagerank_alg import pagerank\n",
    "\n",
    "pagerank_ntwk = pagerank(G_stNo_invWeight, weight = None)\n",
    "pagerank_phy = pagerank(G_stNo_invWeight, weight='weight')\n",
    "\n",
    "print('By network distance:',find_max_key(pagerank_ntwk))\n",
    "print('By physical time:',find_max_key(pagerank_phy))\n",
    "# '540'은 왕십리(5호선)\n",
    "# '618'은 디지털미디어시티(6호선)"
   ]
  },
  {
   "cell_type": "markdown",
   "metadata": {},
   "source": [
    "### More on eigenvector centrality\n",
    "\n",
    "Eigen-phy:\n",
    "- 의정부선이 전체적으로 높게 나오지만, 그 근처의 1호선이나 7호선이 높게 나오진 않는다. 심지어 의정부선의 유일한 환승역인 회룡역의 centrality가 가장 낮다.\n",
    "- 의정부선과 비슷한 (외곽 위치; 환승역 적음) 에버라인이나 경강선은 매우 낮게 나온다. \n",
    "- 의정부선을 제외하면, 왕십리역이 제일 높고, 이후의 중심성도 왕십리역을 중심으로 퍼져 있는 양상이다.\n"
   ]
  },
  {
   "cell_type": "code",
   "execution_count": 44,
   "metadata": {},
   "outputs": [],
   "source": [
    "# function to convert stNo to stName\n",
    "from convert import no_to_name\n",
    "\n",
    "# function to print stName and line of top centralities \n",
    "def sort_centralities(centralities, descending=True, length=1000):\n",
    "    sorted_list = sorted(centralities.items(), key=lambda item: item[1])\n",
    "\n",
    "    if descending:\n",
    "        return [no_to_name(x[0]) + (x[1], ) for x in sorted_list[-length:]][::-1]\n",
    "    else:\n",
    "        return [no_to_name(x[0]) for x in sorted_list[:length]]"
   ]
  },
  {
   "cell_type": "code",
   "execution_count": 45,
   "metadata": {},
   "outputs": [],
   "source": [
    "# top-centrality nodes\n",
    "eigen_phy_sorted = sort_centralities(eigenvector_centrality_phy)\n",
    "katz_phy_sorted = sort_centralities(katz_centrality_phy)\n",
    "pagerank_phy_sorted = sort_centralities(pagerank_phy)"
   ]
  },
  {
   "cell_type": "code",
   "execution_count": 46,
   "metadata": {},
   "outputs": [
    {
     "name": "stdout",
     "output_type": "stream",
     "text": [
      "[('디지털미디어시티', '6', 0.0024106156990537485), ('왕십리', '5', 0.002328693257634662), ('김포공항', '5', 0.002319322083813301), ('신도림', '1', 0.0022987178961913564), ('왕십리', '2', 0.0022944982336590234), ('강동', '5', 0.002262958187602416), ('상봉', 'K1', 0.002146848479708666), ('약수', '3', 0.0021418602972501357), ('상봉', 'P1', 0.0021294775083214174), ('공덕', '5', 0.002117727363150528), ('공덕', '6', 0.0020971963103176604), ('종로3가', '1', 0.002095131590055222), ('김포공항', '9', 0.002086757201722025), ('부평', 'I1', 0.0020809610507765914), ('연신내', '3', 0.00207525658507114), ('서울역', '4', 0.0020716101373500764), ('당정', '1', 0.0020676571353992756), ('도화', '1', 0.002066581017760666), ('구로', '1', 0.002040037404057963), ('불광', '3', 0.0020039153654537708), ('병점', '1', 0.0019970809980151085), ('선릉', '2', 0.001995173203365568), ('군자', '7', 0.001987466824956369), ('성수', '2', 0.0019866913198021926), ('회룡', 'U1', 0.0019796636905604252), ('서울역', '1', 0.001972754036446325), ('합정', '6', 0.001967120584278452), ('고속터미널', '3', 0.0019612811103801643), ('상봉', '7', 0.0019579092890600613), ('영등포구청', '5', 0.0019411365117522053), ('태릉입구', '7', 0.0019376393245820614), ('보산', '1', 0.0019288360741771286), ('천호', '5', 0.001919867051973245), ('삼각지', '4', 0.001910874565002015), ('가락시장', '8', 0.0019086148309065945), ('초지', '4', 0.001907125435388588), ('주안', '1', 0.0019033868157531187), ('동두천중앙', '1', 0.0019015847221141168), ('원인재', 'K2_', 0.0018998878858372142), ('디지털미디어시티', 'K1', 0.0018965190035227862), ('센트럴파크', 'I1', 0.0018921366888633559), ('홍대입구', '2', 0.0018871943490395991), ('미금', 'D', 0.0018842465133636094), ('쌍용', '1', 0.001883697767074032), ('보문', '6', 0.001883558644917857), ('고속터미널', '9', 0.0018727163208722), ('가산디지털단지', '7', 0.001863168620452722), ('봉명', '1', 0.0018537276906441856), ('천마산', 'P1', 0.0018476314972032315), ('군포', '1', 0.0018346143525038048), ('경기도청북부청사', 'U1', 0.0018246812692924805), ('인천시청', 'I2', 0.0018214552696635845), ('망우', 'K1', 0.001820026338840652), ('신설동', '1', 0.0018180230945990688), ('이매', 'K4', 0.0018174699455591255), ('원인재', 'I1', 0.0018129321119905802), ('효자', 'U1', 0.001808989598695304), ('완정', 'I2', 0.00180136476292652), ('창동', '1', 0.0018008432674035165), ('양수', 'K1', 0.0017964993211664624), ('독정', 'I2', 0.0017954745649079928), ('회룡', '1', 0.001793278965498904), ('신흥', '8', 0.0017917543133357853), ('대곡', 'K1', 0.0017894557951416775), ('단대오거리', '8', 0.0017893296751579683), ('왕십리', 'K1', 0.0017838271004901448), ('망우', 'P1', 0.0017824314291717623), ('신도림', '2', 0.001780133946656989), ('노원', '4', 0.0017797914305470635), ('정자', 'K2', 0.0017785383652768238), ('주안', 'I2', 0.0017784500481443418), ('평내호평', 'P1', 0.0017781572851189565), ('도봉산', '1', 0.001778005895428032), ('창동', '4', 0.001774811113946486), ('금천구청', '1', 0.0017729498917773649), ('검암', 'I2', 0.0017650318635089198), ('소사', '1', 0.0017647145000680314), ('홍대입구', 'K1', 0.0017643917369216406), ('보라매', '7', 0.0017603911501513903), ('사당', '4', 0.0017506125301979976), ('증산', '6', 0.001750594070815614), ('총신대입구(이수)', '7', 0.0017503328291664888), ('천호', '8', 0.0017467353190167233), ('여의도', '9', 0.0017446293770317582), ('고속터미널', '7', 0.0017388778830855962), ('까치산', '5', 0.0017353248551301502), ('아시아드경기장', 'I2', 0.0017223361706525805), ('학여울', '3', 0.0017208936683928728), ('솔밭공원', 'S1', 0.0017197204768796856), ('중앙', '4', 0.001718345687867611), ('마두', '3', 0.0017171198400319767), ('온수', '1', 0.001713959499588712), ('양평(중앙선)', 'K1', 0.0017131041135921372), ('모란', 'K2', 0.001713080599948867), ('제물포', '1', 0.001712860645506461), ('을지로3가', '2', 0.0017099786046600584), ('신정', '5', 0.0017095495263486095), ('초지', 'S', 0.0017076895687383122), ('부평시장', 'I1', 0.0017064625877913817), ('종합운동장', '2', 0.001703633646607203), ('강변', '2', 0.0017023885238861276), ('노원', '7', 0.0017015056754095318), ('충무로', '4', 0.001698075737477886), ('대치', '3', 0.001697424781025842), ('야당', 'K1', 0.0016971406500376094), ('도곡', 'K2', 0.0016931007094565568), ('공덕', 'K1', 0.0016918425694452577), ('화계', 'S1', 0.001691642420015087), ('중계', '7', 0.0016912330226062304), ('오금', '5', 0.0016901149684915148), ('영통', 'K2', 0.0016874860814966974), ('기흥', 'K2', 0.0016870795813116756), ('경찰병원', '3', 0.001685914631679216), ('운서', 'AREX', 0.0016824382399290478), ('남춘천', 'P1', 0.0016819332112502905), ('양재', 'D', 0.0016784096782800602), ('신당', '6', 0.0016779702073876713), ('을지로3가', '3', 0.001676143885451717), ('공덕', 'AREX', 0.0016751141874088), ('운길산', 'K1', 0.0016740512963623801), ('을지로4가', '2', 0.001669045796621262), ('청구', '6', 0.0016688665580689012), ('가오리', 'S1', 0.0016678918977499797), ('수원', '1', 0.0016676673504288093), ('종로3가', '5', 0.001666696097559466), ('종로3가', '3', 0.001665344374215538), ('목동', '5', 0.0016635073013980873), ('보평', 'Y1', 0.0016630386250539692), ('부평구청', 'I1', 0.0016554426799224751), ('파주', 'K1', 0.001655111295215473), ('논현', '7', 0.0016531022575065506), ('천안', '1', 0.0016522626548043668), ('송산', 'U1', 0.0016516767756776362), ('하계', '7', 0.001650527760580584), ('이매', 'K2', 0.0016470470795088559), ('역삼', '2', 0.001646203314074281), ('오빈', 'K1', 0.001643197080875344), ('반포', '7', 0.001642539534049795), ('대곡', '3', 0.0016413141753075502), ('신용산', '4', 0.0016405641138293177), ('상월곡', '6', 0.0016401858297145115), ('신길', '1', 0.0016385235127139605), ('월곡', '6', 0.0016374242713537235), ('청구', '5', 0.0016344842435935779), ('모래내시장', 'I2', 0.0016340785474899815), ('도봉산', '7', 0.0016298265902798894), ('문정', '8', 0.0016293181672741345), ('강남구청', '7', 0.001626608382640362), ('운동장.송담대', 'Y1', 0.0016262792306764038), ('중곡', '7', 0.0016255784538756687), ('망원', '6', 0.001625346713630582), ('교대', '2', 0.00162510068051171), ('교대', '3', 0.001620967521386912), ('청량리', '1', 0.0016201543253088866), ('태릉입구', '6', 0.00161855631504986), ('녹양', '1', 0.0016160773489567806), ('신이문', '1', 0.0016158138137462134), ('응암', '6', 0.0016109832509635144), ('선정릉', 'K2', 0.0016070915062514483), ('여의도', '5', 0.0016046777037457298), ('가정중앙시장', 'I2', 0.0016043767780000886), ('백양리', 'P1', 0.0016038555566551928), ('강남구청', 'K2', 0.001603393729836283), ('고덕', '5', 0.0016029164805278248), ('도곡', '3', 0.0015993049156500256), ('건대입구', '7', 0.0015992376424907389), ('공항화물청사', 'AREX', 0.0015968666707878484), ('동두천', '1', 0.0015957054875642479), ('미금', 'K2', 0.0015955919308638673), ('양평(5호선)', '5', 0.0015951959494989502), ('먹골', '7', 0.0015919377255672095), ('강남', '2', 0.0015918331872208755), ('과천', '4', 0.001591537250741018), ('굴봉산', 'P1', 0.0015886872799689773), ('당산', '9', 0.0015884699952789327), ('증미', '9', 0.0015882236047560262), ('인천대공원', 'I2', 0.0015871088960697187), ('석촌', '8', 0.0015865134350757848), ('금정', '1', 0.0015852773828378013), ('왕길', 'I2', 0.0015849428529007877), ('운정', 'K1', 0.0015848032632821626), ('동대문역사문화공원', '4', 0.001584684012460732), ('석수', '1', 0.0015839734175038746), ('주엽', '3', 0.001582544134784438), ('선정릉', '9', 0.0015819020238538673), ('이태원', '6', 0.0015818062819470844), ('뚝섬', '2', 0.001580348186081977), ('옥수', '3', 0.0015789859162406255), ('시흥대야', 'S', 0.001576230448005516), ('시청.용인대', 'Y1', 0.0015759407032274009), ('수원', 'K2', 0.0015759310506423168), ('외대앞', '1', 0.0015737848212299171), ('인천시청', 'I1', 0.0015718554537127345), ('회기', '1', 0.0015708596751080512), ('석계', '6', 0.0015696699106017668), ('신풍', '7', 0.001569438739741004), ('인천', 'K2_', 0.0015675967613487385), ('덕소', 'K1', 0.00156655519390481), ('신길', '5', 0.0015660154181654801), ('선릉', 'K2', 0.001565465037100226), ('신포', 'K2_', 0.0015652768986710195), ('동백', 'Y1', 0.0015642042477324086), ('석남', 'I2', 0.0015636767491373233), ('녹사평', '6', 0.001563316321564299), ('둔전', 'Y1', 0.0015625002804571305), ('서부여성회관', 'I2', 0.0015592075424141418), ('김량장', 'Y1', 0.0015590066445580293), ('사당', '2', 0.0015580304417764097), ('송파', '8', 0.0015561487064525174), ('매교', 'K2', 0.0015559258961307968), ('거여', '5', 0.001555251721798414), ('부평', '1', 0.0015544990962786647), ('영등포구청', '2', 0.0015541010703289805), ('아산', '1', 0.0015539545592742508), ('이천', 'K4', 0.0015539302806701436), ('충정로', '5', 0.0015535741312580024), ('수리산', '4', 0.0015535733329426894), ('대공원', '4', 0.001550752517467335), ('만수', 'I2', 0.0015504721429068613), ('잠실', '8', 0.0015501437963819423), ('관악', '1', 0.0015490220952288085), ('월곶', 'K2_', 0.0015485160962414816), ('원곡', 'S', 0.001548056110931053), ('명지대', 'Y1', 0.0015473429250376614), ('노량진', '1', 0.0015471545394328942), ('달미', 'S', 0.0015438059276734893), ('강남대', 'Y1', 0.0015432466275710887), ('개화산', '5', 0.0015420457200297415), ('양재', '3', 0.0015414863208612023), ('공항시장', '9', 0.001540921727293531), ('금정', '4', 0.0015408357635053774), ('수내', 'K2', 0.0015407965040095165), ('별내', 'P1', 0.0015403724880432065), ('부발', 'K4', 0.00153964048931894), ('임학', 'I1', 0.0015393281514932107), ('총신대입구(이수)', '4', 0.0015383031215419232), ('가능', '1', 0.0015343163880011362), ('월롱', 'K1', 0.0015337329659672338), ('지제', '1', 0.0015336958055481296), ('동대문역사문화공원', '5', 0.0015309790600422505), ('오금', '3', 0.0015300960753777695), ('동대문역사문화공원', '2', 0.0015299704177226432), ('면목', '7', 0.001527851417244085), ('서구청', 'I2', 0.0015257774777214352), ('용산', '1', 0.0015250249096678999), ('광교중앙', 'D', 0.001523934944734707), ('성신여대입구', '4', 0.0015233428375121842), ('어정', 'Y1', 0.0015207919400171924), ('신도림', '2', 0.0015195617509375522), ('주안국가산단', 'I2', 0.001518709250643061), ('석천사거리', 'I2', 0.0015183084969826773), ('충무로', '3', 0.0015176702363647815), ('지석', 'Y1', 0.0015157908792634226), ('창신', '6', 0.001510520418872474), ('홍대입구', 'AREX', 0.0015101220114335685), ('소새울', 'S', 0.0015064408950980685), ('인천공항1터미널', 'AREX', 0.001506021078808593), ('상계', '4', 0.0015040489016288163), ('구의', '2', 0.0015018498476856742), ('온수', '7', 0.001501788953491411), ('세종대왕릉', 'K4', 0.0015011569878240942), ('금호', '3', 0.0014971195217708573), ('오이도', '4', 0.0014960734671671454), ('새말', 'U1', 0.0014932916569418112), ('판교', 'K4', 0.0014929415879321064), ('소래포구', 'K2_', 0.001490301479146556), ('동천', 'D', 0.0014899185452681893), ('명일', '5', 0.001488055369285056), ('동작', '9', 0.0014872279196249225), ('부천', '1', 0.0014869020531907678), ('보정', 'K2', 0.001483575425926583), ('정발산', '3', 0.0014833678620732934), ('선부', 'S', 0.001483235111123773), ('중동', '1', 0.0014828891401963517), ('행신', 'K1', 0.0014826381046363542), ('정자', 'D', 0.0014823559751931934), ('서정리', '1', 0.0014822530557980196), ('태평', 'K2', 0.0014800311053739454), ('대림', '7', 0.0014746002492953061), ('성신여대입구', 'S1', 0.0014740895977412268), ('계산', 'I1', 0.0014733240783267113), ('부천종합운동장', '7', 0.0014730542351611084), ('대림', '2', 0.0014725534696491476), ('오산', '1', 0.0014705577121259805), ('강매', 'K1', 0.0014698016387838147), ('원덕', 'K1', 0.001469191722114988), ('고진', 'Y1', 0.0014667984126369884), ('송탄', '1', 0.001465867219211597), ('온양온천', '1', 0.001464397831345663), ('복정', '8', 0.0014634284930710706), ('죽전', 'K2', 0.0014628403251397944), ('망포', 'K2', 0.001462268317283712), ('미아', '4', 0.001459181411810759), ('진위', '1', 0.001459178397010936), ('인천논현', 'K2_', 0.0014588521641401573), ('검단사거리', 'I2', 0.0014578578433126904), ('도봉', '1', 0.0014577768646995553), ('석바위시장', 'I2', 0.0014561428468271057), ('노량진', '9', 0.0014535664495173852), ('명동', '4', 0.0014520844255217847), ('시민공원', 'I2', 0.0014505907660360313), ('범계', '4', 0.001450464444721491), ('춘의', '7', 0.0014486526012239672), ('범골', 'U1', 0.0014478720497330209), ('계양', 'I1', 0.0014473565507754443), ('무악재', '3', 0.0014432954062015618), ('곤제', 'U1', 0.0014428482361077174), ('군자', '5', 0.0014425810677013706), ('미아사거리', '4', 0.0014425805611773322), ('연신내', '6', 0.001442100850221774), ('잠실', '2', 0.0014410686397613142), ('호구포', 'K2_', 0.0014404822512387844), ('안산', '4', 0.0014379770294991147), ('동대문', '4', 0.0014375902850130684), ('동춘', 'I1', 0.0014373277205005862), ('지행', '1', 0.0014369763041577857), ('신중동', '7', 0.001433942891703992), ('회기', 'P1', 0.0014317875988805115), ('남동인더스파크', 'K2_', 0.0014309433360308048), ('청명', 'K2', 0.0014304523303171348), ('경인교대입구', 'I1', 0.001427559979763127), ('동대문', '1', 0.0014271779193382426), ('부천시청', '7', 0.0014259854830342392), ('초월', 'K4', 0.0014246880454345063), ('삼각지', '6', 0.0014234164332332841), ('갈매', 'P1', 0.001423214259584028), ('화랑대', '6', 0.001422971808126649), ('회기', 'K1', 0.0014216064623239805), ('언주', '9', 0.0014193912235936693), ('상동', '7', 0.0014190901232227775), ('경전철의정부', 'U1', 0.0014179167447537448), ('인천가좌', 'I2', 0.001417268074082894), ('개롱', '5', 0.0014156440477881072), ('삼산체육관', '7', 0.001414248488994126), ('동묘앞', '1', 0.0014140957299712963), ('상도', '7', 0.0014109152669539618), ('남태령', '4', 0.0014103054520495134), ('정부과천청사', '4', 0.0014097772036169563), ('신설동', '2', 0.0014093516464332742), ('고잔', '4', 0.0014070090672874164), ('방학', '1', 0.0014067501970239427), ('굴포천', '7', 0.0014059669516455482), ('석계', '1', 0.001404784009518587), ('충정로', '2', 0.0014040848908504428), ('불광', '6', 0.001401402537749078), ('마곡', '5', 0.0013999769666649894), ('송정', '5', 0.0013992205853068317), ('금릉', 'K1', 0.0013955700872183214), ('발산', '5', 0.0013945922101333635), ('새절', '6', 0.0013936482943033262), ('상왕십리', '2', 0.0013935367719026194), ('수지구청', 'D', 0.0013931745519970705), ('한대앞', '4', 0.0013920051101964349), ('행당', '5', 0.0013912705406478045), ('의정부시청', 'U1', 0.001391194394570649), ('봉천', '2', 0.0013898377229543313), ('굽은다리', '5', 0.0013886751199778092), ('서울대입구', '2', 0.001385085185192933), ('인천대입구', 'I1', 0.0013848967432743206), ('성복', 'D', 0.0013839729916120852), ('작전', 'I1', 0.0013837879171015796), ('신림', '2', 0.0013837265189033448), ('김포공항', 'AREX', 0.0013821218563739505), ('독립문', '3', 0.0013818949592861735), ('이촌', '4', 0.0013817313524702398), ('일산', 'K1', 0.001380321221314747), ('우장산', '5', 0.0013800166905434987), ('선학', 'I1', 0.00137943858748761), ('왕십리', 'K2', 0.0013785734908718223), ('신답', '2', 0.0013781111137452227), ('금촌', 'K1', 0.0013774008474704944), ('강촌', 'P1', 0.0013770831896659), ('신연수', 'I1', 0.0013768096446731032), ('달월', 'K2_', 0.0013759377318192378), ('탄현', 'K1', 0.001375357671525454), ('가락시장', '3', 0.0013739886581380903), ('정왕', '4', 0.0013736682360078736), ('풍산', 'K1', 0.0013699678490503074), ('낙성대', '2', 0.001369184489377363), ('문학경기장', 'I1', 0.0013686035439776025), ('양천향교', '9', 0.0013676051852311505), ('상현', 'D', 0.0013664577509076314), ('신대방', '2', 0.0013662522465106922), ('수서', '3', 0.0013661913739962974), ('신금호', '5', 0.001364456103665682), ('마곡나루', '9', 0.001363382838546636), ('서울역', 'AREX', 0.001362888492860885), ('산본', '4', 0.0013625279063244518), ('곤지암', 'K4', 0.0013622249405802734), ('신반포', '9', 0.0013621418344762378), ('장승배기', '7', 0.0013598409014181898), ('신설동', 'S1', 0.0013582893321768762), ('청량리', 'K1', 0.001357798224338191), ('보문', 'S1', 0.0013567889034930716), ('상천', 'P1', 0.0013565000497001833), ('가양', '9', 0.0013533906559501196), ('원흥', '3', 0.0013531519669479277), ('화곡', '5', 0.001352994632105667), ('흥선', 'U1', 0.0013514401609871956), ('시흥능곡', 'S', 0.0013504946367295361), ('기흥', 'Y1', 0.0013472096380929555), ('삼송', '3', 0.00134705980071885), ('북한산보국문', 'S1', 0.001345852713082964), ('종각', '1', 0.0013452168350599155), ('등촌', '9', 0.0013446709176351942), ('남구로', '7', 0.0013439872909014276), ('백마', 'K1', 0.0013439682149996956), ('솔샘', 'S1', 0.0013432835842142957), ('평촌', '4', 0.001342958158586774), ('양정', 'K1', 0.0013429343207210516), ('염창', '9', 0.0013426055520346816), ('마전', 'I2', 0.0013417289863155684), ('옥수', 'K1', 0.0013416479089963485), ('당산', '2', 0.0013414600564538577), ('검암', 'AREX', 0.001341275437098742), ('인천터미널', 'I1', 0.001339481797575606), ('대야미', '4', 0.001338575395792485), ('신원', 'K1', 0.001338568317716225), ('가평', 'P1', 0.001338507345348923), ('두정', '1', 0.0013384632472262215), ('약수', '6', 0.0013372910830248203), ('경기광주', 'K4', 0.0013367941961975767), ('원당', '3', 0.0013346387053566086), ('서현', 'K2', 0.0013344049023344862), ('건대입구', '2', 0.001332008627147139), ('신방화', '9', 0.001330652905481876), ('동묘앞', '6', 0.001329719601554999), ('구로디지털단지', '2', 0.0013294526482024865), ('갈산', 'I1', 0.0013292737859965863), ('수진', '8', 0.0013290606683464172), ('시청', '2', 0.0013288087798972823), ('백석', '3', 0.0013249260326322486), ('디지털미디어시티', 'AREX', 0.001322644456204432), ('신둔도예촌', 'K4', 0.0013221088056866563), ('정릉', 'S1', 0.0013213949668619827), ('남한산성입구', '8', 0.0013211983767304981), ('도심', 'K1', 0.001320908918867365), ('신목동', '9', 0.001319200589453661), ('김유정', 'P1', 0.0013189142295950882), ('서울역', 'K1', 0.00131883907514365), ('이촌', 'K1', 0.0013184690706827045), ('서초', '2', 0.0013176119010815319), ('삼양사거리', 'S1', 0.001316005639288522), ('용두', '2', 0.001311676548226265), ('평택', '1', 0.0013109981887773855), ('캠퍼스타운', 'I1', 0.0013082093514757331), ('인하대', 'K2_', 0.0013074974049466339), ('강동구청', '8', 0.0013074838452308305), ('경복궁', '3', 0.0013068339246780124), ('방이', '5', 0.0013043850069397373), ('테크노파크', 'I1', 0.0013038409703506361), ('국수', 'K1', 0.0013031222559132499), ('천왕', '7', 0.0013019521841284402), ('광명사거리', '7', 0.001301593255281913), ('판교', 'D', 0.0013009651928959248), ('귤현', 'I1', 0.0013009217866274373), ('숭의', 'K2_', 0.0013005900944921239), ('경마공원', '4', 0.0012984505876348952), ('대방', '1', 0.0012983836881998202), ('망월사', '1', 0.0012970520581445646), ('개포동', 'K2', 0.0012970079294378142), ('아차산', '5', 0.0012942867351877696), ('올림픽공원', '5', 0.0012939144269308801), ('구파발', '3', 0.0012938343556036396), ('잠원', '3', 0.0012928486445679863), ('의정부중앙', 'U1', 0.0012914058650663049), ('곡산', 'K1', 0.0012904262167422937), ('신대방삼거리', '7', 0.0012904013955560706), ('화정', '3', 0.0012882025398719547), ('국제업무지구', 'I1', 0.001287198770829237), ('길동', '5', 0.0012871219885335064), ('오산대', '1', 0.0012866668272617534), ('을지로4가', '5', 0.0012859779812567902), ('한성대입구', '4', 0.0012851984106936726), ('대청', '3', 0.0012845393999933769), ('영종', 'AREX', 0.0012842350881034355), ('매봉', '3', 0.0012839825618924908), ('예술회관', 'I1', 0.001283694226615807), ('복정', 'K2', 0.0012825466200011553), ('잠실새내', '2', 0.0012821058588513322), ('녹번', '3', 0.0012804167101865623), ('봉은사', '9', 0.0012787305525128402), ('시청', '1', 0.001278675351019433), ('동작', '4', 0.0012785245737873727), ('양주', '1', 0.0012779657996021764), ('배방', '1', 0.001277052048470654), ('이대', '2', 0.001276716779017578), ('수원시청', 'K2', 0.0012748087367260616), ('도농', 'K1', 0.0012742738958291442), ('세마', '1', 0.0012711287546647875), ('부평삼거리', 'I1', 0.00127026024796869), ('동막', 'I1', 0.0012691109499549256), ('아현', '2', 0.0012667644116475512), ('역곡', '1', 0.0012663158002921338), ('오류동', '1', 0.0012659434408441473), ('청평', 'P1', 0.0012658410015206137), ('까치울', '7', 0.0012643820811510408), ('도림천', '2', 0.0012640586938058107), ('검바위', 'I2', 0.0012633472602256723), ('시흥시청', 'S', 0.0012622005927733905), ('홍제', '3', 0.001261754788601788), ('합정', '2', 0.0012611626430307432), ('가천대역', 'K2', 0.0012610479904203776), ('몽촌토성', '8', 0.0012605960193559683), ('답십리', '5', 0.0012587098297880514), ('신당', '2', 0.001256848771363642), ('간석오거리', 'I1', 0.0012544482446282053), ('압구정로데오', 'K2', 0.0012534172987280954), ('송내', '1', 0.0012533295464150793), ('선바위', '4', 0.0012532591923447118), ('가좌', 'K1', 0.001252151560968239), ('동대입구', '3', 0.0012516982209502202), ('한티', 'K2', 0.0012513260323404186), ('매탄권선', 'K2', 0.0012506659544941805), ('삼양', 'S1', 0.0012500300145553062), ('삼성중앙', '9', 0.0012498502635059235), ('철산', '7', 0.0012491019001065846), ('개봉', '1', 0.0012482237566420029), ('장지', '8', 0.0012478874373994578), ('안양', '1', 0.0012466421227593624), ('둔촌동', '5', 0.0012465434717504635), ('지식정보단지', 'I1', 0.0012431152570948978), ('수유', '4', 0.0012408411466013254), ('선유도', '9', 0.001240078789300179), ('퇴계원', 'P1', 0.0012389313886275826), ('마들', '7', 0.0012388262550529867), ('신촌', '2', 0.0012365742880302638), ('동수', 'I1', 0.0012358437517929317), ('중랑', 'K1', 0.001235774833267365), ('박촌', 'I1', 0.0012354987708071564), ('신논현', '9', 0.0012349772491580028), ('중랑', 'P1', 0.0012348230170359442), ('구성', 'K2', 0.0012331541927028387), ('아신', 'K1', 0.001230610267934479), ('마석', 'P1', 0.0012305267592741562), ('반월', '4', 0.0012301513963145277), ('여의나루', '5', 0.0012274777069430248), ('연수', 'K2_', 0.0012249284048310007), ('신천', 'S', 0.0012237210051470303), ('능곡', 'K1', 0.0012234923772937692), ('가산디지털단지', '1', 0.0012220449165027542), ('월계', '1', 0.0012218637390589214), ('삼성', '2', 0.0012193316108852223), ('금곡', 'P1', 0.0012189381082593192), ('남동구청', 'I2', 0.0012189218868050248), ('혜화', '4', 0.001216935905370029), ('광흥창', '6', 0.001215986070089597), ('신갈', 'K2', 0.0012153041061167113), ('숭실대입구', '7', 0.001214284367707145), ('구반포', '9', 0.001212892800038876), ('문래', '2', 0.0012127182133149918), ('의왕', '1', 0.0012124251564194879), ('부개', '1', 0.0012044902554279313), ('녹천', '1', 0.0012022410669682352), ('쌍문', '4', 0.0012006774963500425), ('학동', '7', 0.001199807267972598), ('대모산입구', 'K2', 0.0011972049283552138), ('길음', '4', 0.001196178280264118), ('직산', '1', 0.0011959711003067897), ('서대문', '5', 0.001194898298765013), ('모란', '8', 0.0011937616936598095), ('구룡', 'K2', 0.0011934096909971732), ('안국', '3', 0.001193066694572826), ('용답', '2', 0.0011914169930987329), ('백운', '1', 0.0011913247795964014), ('명학', '1', 0.0011912358306919333), ('수서', 'K2', 0.0011909165668434307), ('화서', '1', 0.0011899660125243511), ('오이도', 'K2_', 0.0011897988293444097), ('북한산우이', 'S1', 0.001189512358320453), ('월드컵경기장', '6', 0.0011859219740502662), ('상수', '6', 0.0011857944785873661), ('마포', '5', 0.0011846072449416948), ('남성', '7', 0.0011840876935836338), ('동오', 'U1', 0.0011832662997130544), ('어린이대공원', '7', 0.0011830647616687924), ('사릉', 'P1', 0.0011822216871902034), ('샛강', '9', 0.0011810690066128321), ('동암', '1', 0.0011791379378631762), ('돌곶이', '6', 0.0011787111440208723), ('구리', 'K1', 0.0011783154287031469), ('상갈', 'K2', 0.001177243903067734), ('마포구청', '6', 0.0011771039132119675), ('광운대', '1', 0.0011768499493539047), ('대흥', '6', 0.0011753623953988344), ('4.19민주묘지', 'S1', 0.0011746070350900715), ('양재시민의숲', 'D', 0.0011731582906671493), ('계양', 'AREX', 0.001169847787278899), ('의정부', '1', 0.0011695055430365844), ('삼가', 'Y1', 0.001165357788960891), ('부평구청', '7', 0.0011627931937596902), ('오리', 'K2', 0.0011627721311670619), ('강남', 'D', 0.001162752792186565), ('고려대', '6', 0.0011620620319451858), ('영등포시장', '5', 0.0011618503963234145), ('초당', 'Y1', 0.001159689337963763), ('애오개', '5', 0.0011580715842776084), ('용마산', '7', 0.001156644402805799), ('국회의사당', '9', 0.0011549347956396954), ('소사', 'S', 0.0011542317566211103), ('지축', '3', 0.0011522119346283957), ('방배', '2', 0.001151336999739799), ('탑석', 'U1', 0.0011507799738803412), ('세류', '1', 0.00114935964802065), ('구일', '1', 0.0011472807218831779), ('일원', '3', 0.0011461613471268773), ('인천', '1', 0.0011460458536378835), ('광화문', '5', 0.0011454409152237646), ('안암', '6', 0.0011439113132322126), ('마장', '5', 0.001143827178588823), ('한강진', '6', 0.0011383452181576536), ('수락산', '7', 0.001137928480094083), ('사가정', '7', 0.0011373104815566222), ('신사', '3', 0.0011370961128461341), ('오목교', '5', 0.0011365495567186757), ('제기동', '1', 0.0011354420128330514), ('성균관대', '1', 0.001132831781573631), ('청량리', 'P1', 0.00113078799705709), ('공릉', '7', 0.0011303149713720062), ('수색', 'K1', 0.0011258822609692331), ('독산', '1', 0.0011246483742290028), ('버티고개', '6', 0.0011222946277439883), ('신현', 'S', 0.0011185427687577655), ('송도', 'K2_', 0.0011154276797578906), ('효창공원앞', '6', 0.0011122715247580141), ('청담', '7', 0.0011046628628097958), ('남부터미널', '3', 0.001103868528963058), ('압구정', '3', 0.0011029702692277213), ('내방', '7', 0.0010994554069257835), ('장한평', '5', 0.0010984906603503678), ('도원', '1', 0.0010984740575114254), ('뚝섬유원지', '7', 0.0010979888757787545), ('흑석', '9', 0.0010978003248164284), ('숙대입구', '4', 0.0010959012342266713), ('야탑', 'K2', 0.0010954726421266783), ('을지로입구', '2', 0.001093323467106659), ('덕계', '1', 0.0010927520994875404), ('까치산', '2', 0.0010919650643396459), ('노들', '9', 0.0010914618319524576), ('어룡', 'U1', 0.0010914089324198131), ('신길온천', '4', 0.001090272029366691), ('광나루', '5', 0.0010877018883645956), ('대성리', 'P1', 0.0010790274036309507), ('종로5가', '1', 0.001078736252867071), ('용산', 'K1', 0.001076472211687276), ('남영', '1', 0.0010733046912909227), ('인덕원', '4', 0.0010729954273195784), ('춘천', 'P1', 0.0010723829964849826), ('서빙고', 'K1', 0.0010646839741762777), ('회현', '4', 0.0010645098667236765), ('산성', '8', 0.0010611529642169156), ('영등포', '1', 0.001060569604165177), ('상록수', '4', 0.001055121969118953), ('간석', '1', 0.0010549932113685261), ('한양대', '2', 0.001050574842281142), ('신정네거리', '2', 0.001049999732028531), ('잠실나루', '2', 0.0010459676637481158), ('한남', 'K1', 0.0010451869463466363), ('팔당', 'K1', 0.0010399064754811032), ('서울숲', 'K2', 0.0010383964769005226), ('화전', 'K1', 0.0010315602852702288), ('응봉', 'K1', 0.0010259400801868246), ('양천구청', '2', 0.0010253178599995622), ('서강대', 'K1', 0.0010252806286507941), ('대화', '3', 0.00102173007535843), ('종합운동장', '9', 0.001010365226280254), ('원시', 'S', 0.0010029363153135238), ('신내', 'P1', 0.000999622977104062), ('성환', '1', 0.0009988834835751575), ('가정', 'I2', 0.0009915673395768116), ('사평', '9', 0.0009865988366481305), ('삼동', 'K4', 0.0009759234273856641), ('덕정', '1', 0.000973687851446313), ('여주', 'K4', 0.0009585828803193265), ('양원', 'K1', 0.0009514047928285716), ('구산', '6', 0.0009483842756467576), ('가재울', 'I2', 0.0009442253335011973), ('동인천', '1', 0.0009413221337855265), ('중화', '7', 0.0009406809881487947), ('청계산입구', 'D', 0.0009287889437895153), ('독바위', '6', 0.0009276248642078222), ('성수', '2', 0.0009249656357757438), ('역촌', '6', 0.0008975871816505464), ('상일동', '5', 0.0008960395962949749), ('서동탄', '1', 0.0008933616513363678), ('청라국제도시', 'AREX', 0.0008897570314636641), ('운연', 'I2', 0.0008887534413625368), ('검단오류', 'I2', 0.0008871161797818049), ('마천', '5', 0.0008754622545022164), ('방화', '5', 0.0008682466178479081), ('광교', 'D', 0.0008615085917415147), ('당고개', '4', 0.0008522378827779874), ('발곡', 'U1', 0.0008445095284696932), ('용문', 'K1', 0.000838379546829179), ('신창', '1', 0.000836052726378533), ('봉화산', '6', 0.0008180804693003704), ('암사', '8', 0.0007707572761364862), ('문산', 'K1', 0.0007414168136010462), ('인천공항2터미널', 'AREX', 0.0007259566922185367), ('소요산', '1', 0.0006658371447506017), ('신촌(경의선)', 'K1', 0.0006431511189647907), ('전대.에버랜드', 'Y1', 0.0005929652685925775), ('장암', '7', 0.000590755082457801), ('광명', '1', 0.0005609117188933453), ('개화', '9', 0.0004724179075789878)]\n"
     ]
    }
   ],
   "source": [
    "# print(eigen_phy_sorted)\n",
    "print(pagerank_phy_sorted)"
   ]
  },
  {
   "cell_type": "code",
   "execution_count": 17,
   "metadata": {},
   "outputs": [
    {
     "data": {
      "text/plain": [
       "5       14\n",
       "I2      11\n",
       "6       11\n",
       "1       11\n",
       "7       11\n",
       "2       10\n",
       "3        8\n",
       "4        6\n",
       "U1       4\n",
       "8        4\n",
       "K1       4\n",
       "P1       2\n",
       "I1       2\n",
       "AREX     1\n",
       "S1       1\n",
       "dtype: int64"
      ]
     },
     "execution_count": 17,
     "metadata": {},
     "output_type": "execute_result"
    }
   ],
   "source": [
    "# count lines in top-centrality nodes\n",
    "pd.Series([x[1] for x in katz_phy_sorted]).value_counts()"
   ]
  }
 ],
 "metadata": {
  "kernelspec": {
   "display_name": "Python 3",
   "language": "python",
   "name": "python3"
  },
  "language_info": {
   "codemirror_mode": {
    "name": "ipython",
    "version": 3
   },
   "file_extension": ".py",
   "mimetype": "text/x-python",
   "name": "python",
   "nbconvert_exporter": "python",
   "pygments_lexer": "ipython3",
   "version": "3.8.5"
  }
 },
 "nbformat": 4,
 "nbformat_minor": 2
}
