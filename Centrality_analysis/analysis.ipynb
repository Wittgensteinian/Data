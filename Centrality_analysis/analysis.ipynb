{
 "cells": [
  {
   "cell_type": "code",
   "execution_count": 1,
   "metadata": {},
   "outputs": [],
   "source": [
    "import pickle\n",
    "import networkx as nx\n",
    "import numpy as np\n",
    "import matplotlib.pyplot as plt\n",
    "import pandas as pd\n",
    "%matplotlib inline"
   ]
  },
  {
   "cell_type": "markdown",
   "metadata": {},
   "source": [
    "## Load data"
   ]
  },
  {
   "cell_type": "code",
   "execution_count": 2,
   "metadata": {},
   "outputs": [],
   "source": [
    "with open('../Subway base network/graph_stName_as_node.pkl', 'rb') as f:\n",
    "    G_stName = pickle.load(f)\n",
    "with open('../Subway base network/graph_stNo_as_node.pkl', 'rb') as f:\n",
    "    G_stNo = pickle.load(f)\n",
    "with open('../Subway base network/graph_stNo_as_node_invWeight.pkl', 'rb') as f:\n",
    "    G_stNo_invWeight = pickle.load(f)\n"
   ]
  },
  {
   "cell_type": "markdown",
   "metadata": {},
   "source": [
    "## About graphs\n",
    "> G_stName\n",
    "- Node is set to station name.\n",
    "- Preserves the original subway network structure\n",
    "- 역과 역 간 연결 상태를 보여줌. 즉, 두 역 사이를 지나는 노선이 여러 개더라도 하나의 edge로 인식 (nxgraph의 설정 상 어쩔 수 없음)\n",
    "  \n",
    "  \n",
    "> G_stNo\n",
    "- Node is set to station number.\n",
    "- Convenient to calculate min distance within nodes. \n",
    "- 하나의 역이더라도, n개의 노선이 지난다면 n개의 노드로 구별됨. 동일 역 다른 노선(e.g. 4호선 사당역과 2호선 사당역)의 노드 사이에도 edge가 부여되며, 이 edge의 weight는 '환승 시간'에 해당됨."
   ]
  },
  {
   "cell_type": "markdown",
   "metadata": {},
   "source": [
    "## Degree analysis"
   ]
  },
  {
   "cell_type": "code",
   "execution_count": 3,
   "metadata": {},
   "outputs": [
    {
     "name": "stdout",
     "output_type": "stream",
     "text": [
      "Total nodes: 598\n"
     ]
    }
   ],
   "source": [
    "# number of nodes\n",
    "\n",
    "N_stName = len(list(G_stName.nodes))\n",
    "print('Total nodes:', N_stName)"
   ]
  },
  {
   "cell_type": "code",
   "execution_count": 4,
   "metadata": {},
   "outputs": [
    {
     "name": "stdout",
     "output_type": "stream",
     "text": [
      "Mean degree: 2.274247491638796\n"
     ]
    },
    {
     "data": {
      "text/plain": [
       "Text(0.5, 1.0, 'Degree distribution of the subway network of Seoul')"
      ]
     },
     "execution_count": 4,
     "metadata": {},
     "output_type": "execute_result"
    },
    {
     "data": {
      "image/png": "[encoded data removed]",
      "text/plain": [
       "<Figure size 432x288 with 1 Axes>"
      ]
     },
     "metadata": {
      "needs_background": "light"
     },
     "output_type": "display_data"
    }
   ],
   "source": [
    "# degree\n",
    "\n",
    "# given graph is directional graph; two edges with different directions exist between every two nodes\n",
    "degrees = dict(G_stName.degree)\n",
    "degrees_values = degrees.values()\n",
    "degrees_values_undirected = [x//2 for x in degrees_values]\n",
    "\n",
    "# average\n",
    "MEAN_DEGREE = sum(degrees_values_undirected) / len(degrees_values_undirected)\n",
    "print('Mean degree:', MEAN_DEGREE)\n",
    "\n",
    "# plot\n",
    "series_to_plot = pd.Series(degrees_values_undirected).value_counts().sort_index()\n",
    "ax = series_to_plot.plot.bar(rot=0)\n",
    "ax.set_title('Degree distribution of the subway network of Seoul')\n",
    "\n",
    "# TMI\n",
    "# Degree 8: 공덕역 (degree centrality)\n",
    "# Degree 7: 왕십리역"
   ]
  },
  {
   "cell_type": "markdown",
   "metadata": {},
   "source": [
    "## Calculate network distance & physical time"
   ]
  },
  {
   "cell_type": "code",
   "execution_count": 5,
   "metadata": {},
   "outputs": [],
   "source": [
    "from networkx.algorithms.shortest_paths.generic import shortest_path_length\n",
    "\n",
    "# shortest path (network distance)\n",
    "network_distances = dict(shortest_path_length(G_stNo)) # usage: network_distances[source_node][target_node]\n",
    "\n",
    "# shortest path (physical time)\n",
    "physical_times = dict(shortest_path_length(G_stNo, weight='weight')) \n",
    "\n",
    "# number of nodes\n",
    "N_stNo = len(list(G_stNo.nodes))"
   ]
  },
  {
   "cell_type": "markdown",
   "metadata": {},
   "source": [
    "## Centrality analysis"
   ]
  },
  {
   "cell_type": "code",
   "execution_count": 6,
   "metadata": {},
   "outputs": [],
   "source": [
    "# custom function\n",
    "\n",
    "def find_max_key(dict):\n",
    "    '''find 'all' keys whose value is max.'''\n",
    "\n",
    "    value = max(dict.values())\n",
    "    keys = []\n",
    "    for key in dict:\n",
    "        if dict[key] == value:\n",
    "            keys.append(key)\n",
    "    return keys\n",
    "\n",
    "def find_min_key(dict):\n",
    "    '''find 'all' keys whose value is min.'''\n",
    "\n",
    "    value = min(dict.values())\n",
    "    keys = []\n",
    "    for key in dict:\n",
    "        if dict[key] == value:\n",
    "            keys.append(key)\n",
    "    return keys"
   ]
  },
  {
   "cell_type": "markdown",
   "metadata": {},
   "source": [
    "### Closeness centrality\n",
    "- Closeness centrality\n",
    "- Closeness centrality based on eccentricity\n",
    "- Radius and diameter"
   ]
  },
  {
   "cell_type": "code",
   "execution_count": 7,
   "metadata": {},
   "outputs": [
    {
     "name": "stdout",
     "output_type": "stream",
     "text": [
      "By network distance: ['K111']\n",
      "By physical time: ['426']\n"
     ]
    }
   ],
   "source": [
    "# closeness centrality\n",
    "def get_closeness_centralities(distance_dict):\n",
    "    closeness_centralities = {}\n",
    "\n",
    "    for x in list(G_stNo.nodes):\n",
    "        value = (N_stNo - 1) / sum(distance_dict[x].values()) # formula of closeness centrality\n",
    "        closeness_centralities[x] = value\n",
    "\n",
    "    return closeness_centralities   \n",
    "\n",
    "\n",
    "closeness_centralities_ntwk = get_closeness_centralities(network_distances)\n",
    "closeness_centralities_phy = get_closeness_centralities(physical_times)\n",
    "\n",
    "print('By network distance:', find_max_key(closeness_centralities_ntwk))\n",
    "print('By physical time:', find_max_key(closeness_centralities_phy))\n",
    "# 'K111'은 이촌역(경의중앙선) \n",
    "# '426'은 서울역(4호선)"
   ]
  },
  {
   "cell_type": "code",
   "execution_count": 8,
   "metadata": {},
   "outputs": [
    {
     "name": "stdout",
     "output_type": "stream",
     "text": [
      "By network distance: ['136', '431', '432', '434']\n",
      "By physical time: ['432']\n"
     ]
    }
   ],
   "source": [
    "# closeness centrality based on eccentricity (radius and diameter)\n",
    "\n",
    "# eccentricity of node i := greatest distance between i and another nodes    \n",
    "def get_eccentricities(distance_dict):\n",
    "\n",
    "    # eccentricities by each node\n",
    "    eccentricities = {node:0 for node in list(G_stNo.nodes)} \n",
    "\n",
    "    for x in list(G_stNo.nodes):\n",
    "        max_dist = max(distance_dict[x].values()) # maxiumum distance when source node is x\n",
    "        eccentricities[x] = max_dist\n",
    "\n",
    "    return eccentricities\n",
    "\n",
    "\n",
    "eccentricities_ntwk = get_eccentricities(network_distances)\n",
    "eccentricities_phy = get_eccentricities(physical_times)\n",
    "\n",
    "print('By network distance:', find_min_key(eccentricities_ntwk))\n",
    "print('By physical time:', find_min_key(eccentricities_phy))\n",
    "\n",
    "# '136'은 노량진(1호선), '431'은 동작(4호선), '432'는 총신대입구(이수)(4호선), '434'는 남태령(4호선)\n",
    "# '432'는 총신대입구(이수)(4호선)"
   ]
  },
  {
   "cell_type": "code",
   "execution_count": 9,
   "metadata": {},
   "outputs": [
    {
     "name": "stdout",
     "output_type": "stream",
     "text": [
      "Radius by network distance: 39\n",
      "Diameter by network distance: 75\n",
      "Radius by physical time: 121\n",
      "Diameter by physical time: 242\n"
     ]
    }
   ],
   "source": [
    "# radius and diameter\n",
    "\n",
    "# radius := min(eccentricity)\n",
    "# diameter := max(eccentricity)\n",
    "print('Radius by network distance:', min(eccentricities_ntwk.values()))\n",
    "print('Diameter by network distance:',max(eccentricities_ntwk.values()))\n",
    "print('Radius by physical time:',min(eccentricities_phy.values()))\n",
    "print('Diameter by physical time:',max(eccentricities_phy.values()))"
   ]
  },
  {
   "cell_type": "markdown",
   "metadata": {},
   "source": [
    "### Betweenness centrality"
   ]
  },
  {
   "cell_type": "code",
   "execution_count": 10,
   "metadata": {},
   "outputs": [
    {
     "name": "stdout",
     "output_type": "stream",
     "text": [
      "By network distance: ['K116']\n",
      "By physical time: ['141']\n"
     ]
    }
   ],
   "source": [
    "# betweenness centrality\n",
    "from networkx.algorithms.centrality import betweenness_centrality\n",
    "\n",
    "betweenness_centrality_ntwk = betweenness_centrality(G_stNo)\n",
    "betweenness_centrality_phy = betweenness_centrality(G_stNo, weight = 'weight')\n",
    "\n",
    "print('By network distance:',find_max_key(betweenness_centrality_ntwk))\n",
    "print('By physical time:',find_max_key(betweenness_centrality_phy))\n",
    "# 'K116'은 왕십리(경의중앙선)\n",
    "# '141'은 구로(1호선)"
   ]
  },
  {
   "cell_type": "markdown",
   "metadata": {},
   "source": [
    "### Eigenvector centrality"
   ]
  },
  {
   "cell_type": "code",
   "execution_count": 11,
   "metadata": {},
   "outputs": [],
   "source": [
    "### 이제부터 G_stNo 대신 G_stNo_invWeight 사용!!\n",
    "G_stNo = G_stNo_invWeight"
   ]
  },
  {
   "cell_type": "code",
   "execution_count": 12,
   "metadata": {},
   "outputs": [
    {
     "name": "stdout",
     "output_type": "stream",
     "text": [
      "By network distance: ['A02']\n",
      "By physical time: ['U121']\n"
     ]
    }
   ],
   "source": [
    "# eigenvector centrality\n",
    "from networkx.algorithms.centrality import eigenvector_centrality\n",
    "\n",
    "eigenvector_centrality_ntwk = eigenvector_centrality(G_stNo, max_iter=1000)\n",
    "eigenvector_centrality_phy = eigenvector_centrality(G_stNo, weight = 'weight', max_iter=1000)\n",
    "\n",
    "print('By network distance:',find_max_key(eigenvector_centrality_ntwk))\n",
    "print('By physical time:',find_max_key(eigenvector_centrality_phy))\n",
    "# 'A02'은 공덕(공항철도)\n",
    "# 'A05'은 김포공항(공항철도)"
   ]
  },
  {
   "cell_type": "code",
   "execution_count": 14,
   "metadata": {},
   "outputs": [],
   "source": [
    "eigenvector_centrality_phy_sorted = sorted(eigenvector_centrality_phy.items(), key=lambda item: item[1])\n",
    "eigenvector_centrality_phy_sorted.reverse()"
   ]
  },
  {
   "cell_type": "code",
   "execution_count": 15,
   "metadata": {},
   "outputs": [
    {
     "data": {
      "text/plain": [
       "[('U121', 0.5760737726919646),\n",
       " ('U120', 0.5750674916721313),\n",
       " ('U122', 0.38572771334533795),\n",
       " ('U119', 0.3830431230106425),\n",
       " ('U123', 0.13451175067370344),\n",
       " ('U118', 0.1275694126874204),\n",
       " ('U124', 0.06295872645516137),\n",
       " ('U117', 0.04248598741633585),\n",
       " ('U125', 0.03774880524330533),\n",
       " ('U115', 0.014149703596175232)]"
      ]
     },
     "execution_count": 15,
     "metadata": {},
     "output_type": "execute_result"
    }
   ],
   "source": [
    "eigenvector_centrality_phy_sorted[:10]"
   ]
  },
  {
   "cell_type": "code",
   "execution_count": 16,
   "metadata": {},
   "outputs": [
    {
     "data": {
      "text/plain": [
       "[('A02', 0.40903761254301557),\n",
       " ('K312', 0.3589080332232166),\n",
       " ('626', 0.3489641608384828),\n",
       " ('529', 0.3486645439320667),\n",
       " ('A01', 0.29651527241222075),\n",
       " ('133', 0.24397229881484994),\n",
       " ('426', 0.24048463023650396),\n",
       " ('P313', 0.22747397667535665),\n",
       " ('A03', 0.1933047395068824),\n",
       " ('K314', 0.1313943088702893)]"
      ]
     },
     "execution_count": 16,
     "metadata": {},
     "output_type": "execute_result"
    }
   ],
   "source": [
    "eigenvector_centrality_ntwk_sorted = sorted(eigenvector_centrality_ntwk.items(), key=lambda item: item[1])\n",
    "eigenvector_centrality_ntwk_sorted.reverse()\n",
    "eigenvector_centrality_ntwk_sorted[:10]"
   ]
  },
  {
   "cell_type": "code",
   "execution_count": 17,
   "metadata": {},
   "outputs": [
    {
     "name": "stdout",
     "output_type": "stream",
     "text": [
      "By network distance: ['A02']\n"
     ]
    }
   ],
   "source": [
    "# Katz centrality\n",
    "from networkx.algorithms.centrality import katz_centrality\n",
    "\n",
    "katz_centrality_ntwk = katz_centrality(G_stNo)\n",
    "#katz_centrality_phy = katz_centrality(G_stNo, weight='weight', max_iter=100000)\n",
    "\n",
    "print('By network distance:',find_max_key(katz_centrality_ntwk))\n",
    "#print('By physical time:',find_max_key(katz_centrality_phy))\n",
    "\n",
    "# 'A02'은 공덕(공항철도)"
   ]
  },
  {
   "cell_type": "code",
   "execution_count": 18,
   "metadata": {},
   "outputs": [
    {
     "name": "stdout",
     "output_type": "stream",
     "text": [
      "By network distance: ['618']\n",
      "By physical time: ['618']\n"
     ]
    }
   ],
   "source": [
    "# PageRank\n",
    "from networkx.algorithms.link_analysis.pagerank_alg import pagerank\n",
    "\n",
    "pagerank_ntwk = pagerank(G_stNo)\n",
    "pagerank_phy = pagerank(G_stNo, weight='weight')\n",
    "\n",
    "print('By network distance:',find_max_key(pagerank_ntwk))\n",
    "print('By physical time:',find_max_key(pagerank_phy))\n",
    "# 'A05'은 김포공항(공항철도)"
   ]
  },
  {
   "cell_type": "code",
   "execution_count": null,
   "metadata": {},
   "outputs": [],
   "source": []
  }
 ],
 "metadata": {
  "kernelspec": {
   "display_name": "Python 3",
   "language": "python",
   "name": "python3"
  },
  "language_info": {
   "codemirror_mode": {
    "name": "ipython",
    "version": 3
   },
   "file_extension": ".py",
   "mimetype": "text/x-python",
   "name": "python",
   "nbconvert_exporter": "python",
   "pygments_lexer": "ipython3",
   "version": "3.8.5"
  }
 },
 "nbformat": 4,
 "nbformat_minor": 2
}
